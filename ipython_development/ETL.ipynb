{
 "cells": [
  {
   "cell_type": "code",
   "execution_count": 82,
   "metadata": {},
   "outputs": [
    {
     "name": "stdout",
     "output_type": "stream",
     "text": [
      "29_2150_compressed_GlobalLandTemperaturesByCity.csv.zip\r\n",
      "29_2150_compressed_GlobalLandTemperaturesByCountry.csv.zip\r\n",
      "29_2150_compressed_GlobalLandTemperaturesByMajorCity.csv.zip\r\n",
      "29_2150_compressed_GlobalLandTemperaturesByState.csv.zip\r\n",
      "I94_SAS_Labels_Descriptions.SAS\r\n",
      "airport-codes_csv.csv\r\n",
      "capstone-user.csv\r\n",
      "datasets_29_2150_GlobalTemperatures.csv\r\n",
      "immigration_data_sample.csv\r\n",
      "\u001b[34moutput\u001b[m\u001b[m\r\n",
      "\u001b[34msas_data\u001b[m\u001b[m\r\n",
      "sub-est2019_all.csv\r\n",
      "us-cities-demographics.csv\r\n",
      "us_states.csv\r\n"
     ]
    }
   ],
   "source": [
    "!ls ../data"
   ]
  },
  {
   "cell_type": "code",
   "execution_count": 83,
   "metadata": {},
   "outputs": [],
   "source": [
    "import configparser\n",
    "import time\n",
    "import os\n",
    "import re\n",
    "\n",
    "import pandas as pd\n",
    "import numpy as np\n",
    "from datetime import datetime\n",
    "\n",
    "from pyspark.sql import SparkSession\n",
    "from pyspark.sql.types import StructType as R, StructField as Fld\n",
    "from pyspark.sql.types import IntegerType, StringType, DoubleType, DateType\n",
    "from pyspark.sql.functions import udf, col, to_date\n",
    "from pyspark.sql.functions import year, month, dayofmonth, hour, weekofyear, dayofweek, date_format, from_unixtime"
   ]
  },
  {
   "cell_type": "code",
   "execution_count": 84,
   "metadata": {},
   "outputs": [],
   "source": [
    "config_s3 = configparser.ConfigParser()\n",
    "config_s3.read_file(open('../aws_setup.cfg'))\n",
    "\n",
    "S3_REGION              = config_s3.get('S3', 'REGION')\n",
    "S3_BUCKET_NAME         = config_s3.get('S3', 'NAME')"
   ]
  },
  {
   "cell_type": "code",
   "execution_count": 85,
   "metadata": {},
   "outputs": [],
   "source": [
    "output_data = '../data/output'"
   ]
  },
  {
   "cell_type": "code",
   "execution_count": 86,
   "metadata": {},
   "outputs": [],
   "source": [
    "##i94 schema\n",
    "i94Schema = R([\n",
    "    Fld(\"_c0\", StringType()),\n",
    "    Fld(\"cicid\", DoubleType()),\n",
    "    Fld(\"i94yr\", DoubleType()),\n",
    "    Fld(\"i94mon\", DoubleType()),\n",
    "    Fld(\"i94cit\", DoubleType()),\n",
    "    Fld(\"i94res\", DoubleType()),\n",
    "    Fld(\"i94port\", StringType()),\n",
    "    Fld(\"arrdate\", DoubleType()),\n",
    "    Fld(\"i94mode\", DoubleType()),\n",
    "    Fld(\"i94addr\", StringType()),\n",
    "    Fld(\"depdate\", DoubleType()), \n",
    "    Fld(\"i94bir\", DoubleType()), \n",
    "    Fld(\"i94visa\", DoubleType()),\n",
    "    Fld(\"count\", DoubleType()),\n",
    "    Fld(\"dtadfile\", StringType()),\n",
    "    Fld(\"visapost\", StringType()),\n",
    "    Fld(\"occup\", StringType()),\n",
    "    Fld(\"entdepa\", StringType()),\n",
    "    Fld(\"entdepd\", StringType()),\n",
    "    Fld(\"entdepu\", StringType()),\n",
    "    Fld(\"matflag\", StringType()),\n",
    "    Fld(\"biryear\", DoubleType()),\n",
    "    Fld(\"dtaddto\", StringType()),\n",
    "    Fld(\"gender\", StringType()),\n",
    "    Fld(\"insnum\", StringType()),\n",
    "    Fld(\"airline\", StringType()),\n",
    "    Fld(\"admnum\", StringType()),\n",
    "    Fld(\"fltno\", StringType()),\n",
    "    Fld(\"visatype\", StringType()),\n",
    "])"
   ]
  },
  {
   "cell_type": "code",
   "execution_count": 87,
   "metadata": {},
   "outputs": [],
   "source": [
    "# pd.read_csv(f's3a://{S3_BUCKET_NAME}/data/immigration_data_sample.csv')"
   ]
  },
  {
   "cell_type": "code",
   "execution_count": 88,
   "metadata": {},
   "outputs": [],
   "source": [
    "## read\n",
    "spark = SparkSession.builder \\\n",
    "        .config(\"spark.jars.packages\", \"com.amazonaws:aws-java-sdk:1.11.7755\") \\\n",
    "        .config(\"spark.jars.packages\", \"org.apache.hadoop:hadoop-aws:2.7.0\") \\\n",
    "        .config(\"spark.jars.packages\", \"net.java.dev.jets3t:jets3t:0.9.3\") \\\n",
    "        .getOrCreate()\n",
    "\n",
    "\n",
    "df_i94 = spark.read.csv('../data/immigration_data_sample.csv', header=True, schema=i94Schema)\n",
    "# df_i94 = spark.read.csv(f's3a://{S3_BUCKET_NAME}/data/immigration_data_sample.csv', header=True, schema=i94Schema)"
   ]
  },
  {
   "cell_type": "code",
   "execution_count": 89,
   "metadata": {},
   "outputs": [
    {
     "name": "stdout",
     "output_type": "stream",
     "text": [
      "+------+\n",
      "|insnum|\n",
      "+------+\n",
      "|  3517|\n",
      "|  3993|\n",
      "+------+\n",
      "only showing top 2 rows\n",
      "\n"
     ]
    }
   ],
   "source": [
    "df_i94.select(col('insnum')).dropDuplicates().show(2)"
   ]
  },
  {
   "cell_type": "code",
   "execution_count": 90,
   "metadata": {},
   "outputs": [
    {
     "name": "stdout",
     "output_type": "stream",
     "text": [
      "\n",
      "Starting to process time data.\n",
      " Finished processing time table. Used 0.0022 min.\n"
     ]
    }
   ],
   "source": [
    "## for time table\n",
    "print(\"\\nStarting to process time data.\")\n",
    "st = time.time()\n",
    "get_timestamp = udf(lambda x: int(x*24*60*60)-315619200, IntegerType())\n",
    "df_i94 = df_i94.withColumn('arrdate', to_date(from_unixtime(get_timestamp(df_i94.arrdate))))\n",
    "\n",
    "time_table = df_i94.select(col(\"arrdate\").alias(\"arrival_date\"),\n",
    "      dayofmonth(\"arrdate\").alias(\"day\"), \n",
    "      weekofyear(\"arrdate\").alias(\"week\"), \n",
    "      month(\"arrdate\").alias(\"month\"), \n",
    "      year(\"arrdate\").alias(\"year\"), \n",
    "      dayofweek(\"arrdate\").alias(\"weekday\")).dropDuplicates(['arrival_date'])\n",
    "print(f\" Finished processing time table. Used {(time.time() - st)/60:5.2} min.\")"
   ]
  },
  {
   "cell_type": "code",
   "execution_count": 94,
   "metadata": {},
   "outputs": [
    {
     "data": {
      "text/plain": [
       "0"
      ]
     },
     "execution_count": 94,
     "metadata": {},
     "output_type": "execute_result"
    }
   ],
   "source": [
    "time_table.filter(col('arrival_date').isNull()).count()"
   ]
  },
  {
   "cell_type": "code",
   "execution_count": null,
   "metadata": {},
   "outputs": [],
   "source": [
    "df_i94.show(2)"
   ]
  },
  {
   "cell_type": "code",
   "execution_count": null,
   "metadata": {},
   "outputs": [],
   "source": [
    "print(' Writing time data to S3.')\n",
    "st = time.time()\n",
    "# write time table to parquet files partitioned by year and month\n",
    "output_path = os.path.join(output_data, 'time_table_run.parquet')\n",
    "time_table.write.parquet(output_path, 'overwrite')\n",
    "print(f\"======== time data Done in  {(time.time() - st)/60:5.2}min.\")"
   ]
  },
  {
   "cell_type": "code",
   "execution_count": null,
   "metadata": {},
   "outputs": [],
   "source": [
    "## for port table\n",
    "# df_airport = pd.read_csv('../data/airport-codes_csv.csv')\n",
    "df_states = pd.read_csv('../data/us_states.csv')\n",
    "\n",
    "res = []\n",
    "with open('../data/I94_SAS_Labels_Descriptions.SAS', 'r') as file_object:\n",
    "    for line in file_object:\n",
    "        if len(line.strip()) > 0:\n",
    "            res.append(line.strip())\n",
    "\n",
    "i94_desp = ''.join(res).split(';')"
   ]
  },
  {
   "cell_type": "code",
   "execution_count": null,
   "metadata": {},
   "outputs": [],
   "source": [
    "# process port description data\n",
    "print(\"\\nStarting to process port table data.\")\n",
    "st=time.time()\n",
    "for desp in i94_desp:\n",
    "    if 'I94PORT' in desp:\n",
    "        break\n",
    "        \n",
    "desp = desp.replace(\"INT''L FALLS, MN\", \"INTL FALLS, MN\")\n",
    "desp = desp.replace(\"\\t\\t\", \"\\t\")\n",
    "port_info = re.findall(re.compile(\"\\'([A-Z0-9]+\\'\\\\t=\\\\t\\'.+)\\'\"), desp)[0]\n",
    "\n",
    "port_info_list = port_info.split(\"''\")\n",
    "port_info_list = [x.split(\"\\t=\\t\") for x in port_info_list]\n",
    "\n",
    "df_port_info = pd.DataFrame(port_info_list, columns=['port_code', 'port_add'])\n",
    "\n",
    "df_port_info['port_code'] = df_port_info['port_code'].str.replace(\"'\", \"\")\n",
    "df_port_info['port_add'] = df_port_info['port_add'].str.replace(\"'\", \"\").str.strip()\n",
    "\n",
    "# process the outlier\n",
    "no_port_idx = df_port_info['port_add'].str.contains('No PORT Code')\n",
    "df_port_info.loc[no_port_idx, 'port_add'] = 'NA, NA'\n",
    "\n",
    "collapsed_idx = df_port_info['port_add'].str.contains('Collapsed')\n",
    "df_port_info.loc[collapsed_idx, 'port_add'] = 'NA, NA'\n",
    "\n",
    "unknown_idx = df_port_info['port_add'].str.contains('UNIDENTIFED')\n",
    "df_port_info.loc[unknown_idx, 'port_add'] = 'NA, NA'\n",
    "\n",
    "unknown_idx = df_port_info['port_add'].str.contains('UNKNOWN')\n",
    "df_port_info.loc[unknown_idx, 'port_add'] = 'NA, NA'\n",
    "\n",
    "df_port_info.loc[df_port_info['port_add'].str.contains('#INTL'), 'port_add'] = 'BELLINGHAM, WASHINGTON WA'\n",
    "df_port_info.loc[df_port_info['port_add'].str.contains('PASO DEL NORTE,TX'), 'port_add'] = 'PASO DEL NORTE, TX'\n",
    "\n",
    "states_list = df_states['Abbreviation'].unique()\n",
    "def is_us(x):\n",
    "    if len(np.intersect1d(np.array(x.split(' ')), states_list)) > 0:\n",
    "        return True\n",
    "    else:\n",
    "        return False\n",
    "    \n",
    "def get_state(x):\n",
    "    find_state = np.intersect1d(np.array(x.split(' ')), states_list)\n",
    "    if len(find_state) > 0:\n",
    "        return find_state[0]\n",
    "    else:\n",
    "        return 'NA'\n",
    "\n",
    "def get_address(x):\n",
    "    find_state = np.intersect1d(np.array(x.split(' ')), states_list)\n",
    "    if len(find_state) > 0:\n",
    "        state = find_state[0]\n",
    "        x = x.replace(state, '').strip()\n",
    "        x = x.replace(',', '')\n",
    "        return x\n",
    "    else:\n",
    "        return x   \n",
    "\n",
    "df_port_info = df_port_info[df_port_info['port_add'].apply(lambda x: is_us(x))]\n",
    "df_port_info['state'] = df_port_info['port_add'].apply(lambda x: get_state(x))\n",
    "df_port_info['address'] = df_port_info['port_add'].apply(lambda x: get_address(x))\n",
    "df_port_info = df_port_info[['port_code', 'state', 'address']]\n",
    "df_port_info = df_port_info.rename(columns={'port_code': 'port_key'})\n",
    "print(f\" Finished processing port table. Used {(time.time() - st)/60:5.2} min.\")"
   ]
  },
  {
   "cell_type": "code",
   "execution_count": null,
   "metadata": {},
   "outputs": [],
   "source": [
    "## process country tables\n",
    "for desp in i94_desp:\n",
    "    if 'I94CIT & I94RES' in desp:\n",
    "        break\n",
    "\n",
    "region_list = re.findall(re.compile(\"([0-9]+) {1,2}=  {1,2}\\'([A-Za-z0-9 ,\\(\\)\\.:\\/-]+)\\'\"), desp)\n",
    "df_region = pd.DataFrame(region_list, columns=['region_key', 'region_name'])\n",
    "\n",
    "df_region"
   ]
  },
  {
   "cell_type": "code",
   "execution_count": null,
   "metadata": {},
   "outputs": [],
   "source": [
    "## process i94 mode table\n",
    "for desp in i94_desp:\n",
    "    if 'I94MODE' in desp:\n",
    "        break\n",
    "\n",
    "i94mode_list= re.findall(re.compile(\"([1-9]) = \\'([a-zA-Z ]+)\\'\"), desp)\n",
    "df_i94mode = pd.DataFrame(i94mode_list, columns=['i94mode_key', 'i94mode'])\n",
    "df_i94mode"
   ]
  },
  {
   "cell_type": "code",
   "execution_count": null,
   "metadata": {},
   "outputs": [],
   "source": [
    "## process state table\n",
    "for desp in i94_desp:\n",
    "    if 'I94ADDR' in desp:\n",
    "        break\n",
    "\n",
    "state_info_list = re.findall(re.compile(\"\\'([A-Z9]{2})\\'=\\'([a-zA-Z \\.]+)\\'\"), desp)\n",
    "df_state = pd.DataFrame(state_info_list, columns=['state_code', 'state'])\n",
    "df_state.head()"
   ]
  },
  {
   "cell_type": "code",
   "execution_count": null,
   "metadata": {},
   "outputs": [],
   "source": [
    "## process visa table\n",
    "for desp in i94_desp:\n",
    "    if 'I94VISA' in desp:\n",
    "        break\n",
    "\n",
    "visa_list = re.findall(re.compile(\"([1-3]) = ([A-Za-z]+)\"), desp)\n",
    "df_visa = pd.DataFrame(visa_list, columns=['visa_key', 'visa_broad_type'])\n",
    "df_visa"
   ]
  },
  {
   "cell_type": "code",
   "execution_count": null,
   "metadata": {},
   "outputs": [],
   "source": [
    "df_i94.columns"
   ]
  },
  {
   "cell_type": "code",
   "execution_count": 69,
   "metadata": {},
   "outputs": [],
   "source": [
    "## rename i94 table\n",
    "col_rename = {'cicid': 'i94_key', \n",
    "              'i94res': 'res_region_key',\n",
    "              'i94cit': 'cit_region_key', \n",
    "              'i94port': 'port_key',\n",
    "              'arrdate': 'arrival_date', \n",
    "              'i94mode': 'i94mode_key',\n",
    "              'i94addr': 'state_code', \n",
    "              'depdate': 'departure_date', \n",
    "              'i94bir': 'age', \n",
    "              'i94visa': 'visa_key', \n",
    "              'count': 'i94_count', \n",
    "              'dtadfile': 'i94_file_date', \n",
    "              'dtaddto': 'i94_leave_date', \n",
    "              'admnum': 'i94_admin_num'}\n",
    "for old_col, new_col in col_rename.items():\n",
    "    df_i94 = df_i94.withColumnRenamed(old_col, new_col)"
   ]
  },
  {
   "cell_type": "code",
   "execution_count": 70,
   "metadata": {},
   "outputs": [],
   "source": [
    "## process i94 fact table \n",
    "select_cols = ['i94_key', 'res_region_key', 'cit_region_key', 'port_key', \n",
    "               'arrival_date', 'i94yr', 'i94mon', 'i94mode_key', 'state_code', \n",
    "               'departure_date', 'age', 'visa_key', 'i94_count', 'i94_file_date', \n",
    "               'occup', 'biryear', 'i94_leave_date', 'gender', 'insnum', 'airline',\n",
    "               'i94_admin_num', 'fltno', 'visatype']\n",
    "\n",
    "df_i94 = df_i94.select(select_cols)\n",
    "\n",
    "# process data type\n",
    "int_cols = ['i94_key', 'res_region_key', 'cit_region_key', \\\n",
    "            'i94yr', 'i94mon', 'i94mode_key', 'age', 'visa_key', 'i94_count', 'biryear']\n",
    "for int_col in int_cols:\n",
    "    df_i94 = df_i94.withColumn(int_col, col(int_col).cast(IntegerType()))\n",
    "    \n",
    "get_timestamp = udf(lambda x: None if x is None else int(x*24*60*60)-315619200, IntegerType())\n",
    "tmp = df_i94.withColumn('departure_date', get_timestamp(df_i94.departure_date))\n",
    "\n",
    "str_to_date = udf(lambda x: datetime.strptime(x, \"%Y%m%d\"), DateType())\n",
    "df_i94 = df_i94.withColumn('i94_file_date', str_to_date(df_i94.i94_file_date))\n",
    "\n",
    "str_to_date = udf(lambda x: None if x == 'D/S' else datetime.strptime(x, \"%m%d%Y\"), DateType())\n",
    "df_i94 = df_i94.withColumn('i94_leave_date', str_to_date(df_i94.i94_leave_date))\n",
    "\n",
    "remove_zero = udf(lambda x: x.replace('.0', ''))\n",
    "df_i94 = df_i94.withColumn('i94_admin_num', remove_zero(df_i94.i94_admin_num))"
   ]
  },
  {
   "cell_type": "code",
   "execution_count": 74,
   "metadata": {},
   "outputs": [
    {
     "data": {
      "text/plain": [
       "2020"
      ]
     },
     "execution_count": 74,
     "metadata": {},
     "output_type": "execute_result"
    }
   ],
   "source": [
    "datetime.now().year"
   ]
  },
  {
   "cell_type": "code",
   "execution_count": 80,
   "metadata": {
    "scrolled": true
   },
   "outputs": [
    {
     "data": {
      "text/plain": [
       "2016"
      ]
     },
     "execution_count": 80,
     "metadata": {},
     "output_type": "execute_result"
    }
   ],
   "source": [
    "df_i94.agg({\"i94yr\":\"max\"}).collect()[0][0]"
   ]
  },
  {
   "cell_type": "code",
   "execution_count": 71,
   "metadata": {},
   "outputs": [
    {
     "name": "stdout",
     "output_type": "stream",
     "text": [
      "+-------+--------------+--------------+--------+------------+-----+------+-----------+----------+--------------+---+--------+---------+-------------+-----+-------+--------------+------+------+-------+-------------+-----+--------+\n",
      "|i94_key|res_region_key|cit_region_key|port_key|arrival_date|i94yr|i94mon|i94mode_key|state_code|departure_date|age|visa_key|i94_count|i94_file_date|occup|biryear|i94_leave_date|gender|insnum|airline|i94_admin_num|fltno|visatype|\n",
      "+-------+--------------+--------------+--------+------------+-----+------+-----------+----------+--------------+---+--------+---------+-------------+-----+-------+--------------+------+------+-------+-------------+-----+--------+\n",
      "|4084316|           209|           209|     HHW|     20566.0| 2016|     4|          1|        HI|       20573.0| 61|       2|        1|   2016-04-22| null|   1955|    2016-07-20|     F|  null|     JL|  56582674633|00782|      WT|\n",
      "|4422636|           582|           582|     MCA|     20567.0| 2016|     4|          1|        TX|       20568.0| 26|       2|        1|   2016-04-23| null|   1990|    2016-10-22|     M|  null|    *GA|  94361995930|XBLNG|      B2|\n",
      "|1195600|           112|           148|     OGG|     20551.0| 2016|     4|          1|        FL|       20571.0| 76|       2|        1|   2016-04-07| null|   1940|    2016-07-05|     M|  null|     LH|  55780468433|00464|      WT|\n",
      "|5291768|           297|           297|     LOS|     20572.0| 2016|     4|          1|        CA|       20581.0| 25|       2|        1|   2016-04-28| null|   1991|    2016-10-27|     M|  null|     QR|  94789696030|00739|      B2|\n",
      "| 985523|           111|           111|     CHM|     20550.0| 2016|     4|          3|        NY|       20553.0| 19|       2|        1|   2016-04-06| null|   1997|    2016-07-04|     F|  null|   null|  42322572633| LAND|      WT|\n",
      "|1481650|           577|           577|     ATL|     20552.0| 2016|     4|          1|        GA|       20606.0| 51|       2|        1|   2016-04-08| null|   1965|    2016-10-07|     M|  null|     DL|    736852585|  910|      B2|\n",
      "|2197173|           245|           245|     SFR|     20556.0| 2016|     4|          1|        CA|       20635.0| 48|       2|        1|   2016-04-12| null|   1968|    2016-10-11|     F|  null|     CX|    786312185|  870|      B2|\n",
      "| 232708|           135|           113|     NYC|     20546.0| 2016|     4|          1|        NY|       20554.0| 33|       2|        1|   2016-04-02| null|   1983|    2016-06-30|     F|  null|     BA|  55474485033|00117|      WT|\n",
      "|5227851|           131|           131|     CHI|     20572.0| 2016|     4|          1|        IL|       20575.0| 39|       2|        1|   2016-04-28| null|   1977|    2016-07-26|  null|  null|     LX|  59413424733|00008|      WT|\n",
      "|  13213|           116|           116|     LOS|     20545.0| 2016|     4|          1|        CA|       20553.0| 35|       2|        1|   2016-04-01| null|   1981|    2016-06-29|  null|  null|     AA|  55449792933|00109|      WT|\n",
      "|1230572|           438|           438|     LOS|     20551.0| 2016|     4|          1|        CA|       20565.0|  4|       2|        1|   2016-04-07| null|   2012|    2016-07-05|     F|  null|     QF|  55743814633|00015|      WT|\n",
      "|5056736|           209|           209|     PHI|     20571.0| 2016|     4|          1|        HI|       20575.0| 72|       2|        1|   2016-04-27| null|   1944|    2016-07-25|     M|  null|     DL|  59336618033|00598|      WT|\n",
      "|2711583|           112|           148|     FTL|     20559.0| 2016|     4|          2|      null|       20565.0| 54|       2|        1|   2016-04-15| null|   1962|    2016-07-13|     F|  null|    VES|  56175860733|93724|      WT|\n",
      "|4916639|           260|           260|     LOS|     20570.0| 2016|     4|          1|        CA|       20581.0| 62|       2|        1|   2016-04-26| null|   1954|    2016-10-25|     F|  null|     EK|  94612771030|00215|      B2|\n",
      "|1387607|           112|           148|     BOS|     20552.0| 2016|     4|          1|        MA|       20560.0| 34|       2|        1|   2016-04-08| null|   1982|    2016-07-06|     F|  null|     AF|  55833387633|00338|      WT|\n",
      "|5960799|           245|           245|     SAI|     20545.0| 2016|     4|          1|      null|       20550.0| 30|       2|        1|   2016-06-15| null|   1986|    2016-04-13|     M|  3882|     MU|  44162582033|00763|      CP|\n",
      "|1056530|           512|           512|     NAS|     20550.0| 2016|     4|          1|        GA|       20552.0| 21|       2|        1|   2016-04-06| null|   1995|    2016-10-05|     F|  null|     DL|  92858001630|00554|      B2|\n",
      "|2466971|           689|           689|     FTL|     20557.0| 2016|     4|          1|        FL|       20569.0| 43|       2|        1|   2016-04-13| null|   1973|    2016-10-12|  null|  null|     AD|  93384901630|08704|      B2|\n",
      "|4668286|           158|           746|     SEA|     20568.0| 2016|     4|          1|        NV|       20571.0| 46|       2|        1|   2016-04-24| null|   1970|    2016-10-23|     M|  null|     DL|  94435600530|00143|      B2|\n",
      "|2556646|           260|           260|     FTL|     20558.0| 2016|     4|          1|        CA|       20596.0| 14|       2|        1|   2016-04-14| null|   2002|    2016-10-13|     M|  null|     OZ|  93536845530|00204|      B2|\n",
      "+-------+--------------+--------------+--------+------------+-----+------+-----------+----------+--------------+---+--------+---------+-------------+-----+-------+--------------+------+------+-------+-------------+-----+--------+\n",
      "only showing top 20 rows\n",
      "\n"
     ]
    }
   ],
   "source": [
    "df_i94.show()"
   ]
  },
  {
   "cell_type": "code",
   "execution_count": null,
   "metadata": {},
   "outputs": [],
   "source": [
    "## process demographics table\n",
    "df_demo = pd.read_csv('../data/us-cities-demographics.csv', delimiter=';')\n",
    "df_demo.columns = ['_'.join(x.split(' ')).lower() for x in df_demo.columns]"
   ]
  },
  {
   "cell_type": "code",
   "execution_count": null,
   "metadata": {},
   "outputs": [],
   "source": []
  },
  {
   "cell_type": "code",
   "execution_count": null,
   "metadata": {},
   "outputs": [],
   "source": []
  },
  {
   "cell_type": "code",
   "execution_count": null,
   "metadata": {},
   "outputs": [],
   "source": []
  },
  {
   "cell_type": "code",
   "execution_count": null,
   "metadata": {},
   "outputs": [],
   "source": []
  },
  {
   "cell_type": "code",
   "execution_count": null,
   "metadata": {},
   "outputs": [],
   "source": []
  },
  {
   "cell_type": "code",
   "execution_count": null,
   "metadata": {},
   "outputs": [],
   "source": []
  },
  {
   "cell_type": "code",
   "execution_count": null,
   "metadata": {},
   "outputs": [],
   "source": []
  },
  {
   "cell_type": "code",
   "execution_count": null,
   "metadata": {},
   "outputs": [],
   "source": []
  }
 ],
 "metadata": {
  "kernelspec": {
   "display_name": "Python 3",
   "language": "python",
   "name": "python3"
  },
  "language_info": {
   "codemirror_mode": {
    "name": "ipython",
    "version": 3
   },
   "file_extension": ".py",
   "mimetype": "text/x-python",
   "name": "python",
   "nbconvert_exporter": "python",
   "pygments_lexer": "ipython3",
   "version": "3.7.6"
  }
 },
 "nbformat": 4,
 "nbformat_minor": 4
}
