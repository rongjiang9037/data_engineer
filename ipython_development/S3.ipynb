{
 "cells": [
  {
   "cell_type": "code",
   "execution_count": 35,
   "metadata": {},
   "outputs": [],
   "source": [
    "import boto3\n",
    "import os\n",
    "import configparser"
   ]
  },
  {
   "cell_type": "code",
   "execution_count": 28,
   "metadata": {},
   "outputs": [
    {
     "name": "stdout",
     "output_type": "stream",
     "text": [
      "29_2150_compressed_GlobalLandTemperaturesByCity.csv.zip\r\n",
      "29_2150_compressed_GlobalLandTemperaturesByCountry.csv.zip\r\n",
      "29_2150_compressed_GlobalLandTemperaturesByMajorCity.csv.zip\r\n",
      "29_2150_compressed_GlobalLandTemperaturesByState.csv.zip\r\n",
      "I94_SAS_Labels_Descriptions.SAS\r\n",
      "airport-codes_csv.csv\r\n",
      "capstone-user.csv\r\n",
      "datasets_29_2150_GlobalTemperatures.csv\r\n",
      "immigration_data_sample.csv\r\n",
      "\u001b[34msas_data\u001b[m\u001b[m\r\n",
      "sub-est2019_all.csv\r\n",
      "us-cities-demographics.csv\r\n"
     ]
    }
   ],
   "source": [
    "!ls data"
   ]
  },
  {
   "cell_type": "code",
   "execution_count": 20,
   "metadata": {},
   "outputs": [],
   "source": [
    "config_aws = configparser.ConfigParser()\n",
    "config_aws.read_file(open('../aws_credentials.cfg'))\n",
    "\n",
    "KEY                    = config_aws.get('AWS','KEY')\n",
    "SECRET                 = config_aws.get('AWS','SECRET')\n",
    "ARN                    = config_aws.get('AWS', 'ARN')"
   ]
  },
  {
   "cell_type": "code",
   "execution_count": 42,
   "metadata": {},
   "outputs": [],
   "source": [
    "config_s3 = configparser.ConfigParser()\n",
    "config_s3.read_file(open('../aws_setup.cfg'))\n",
    "\n",
    "S3_REGION              = config_s3.get('S3', 'REGION')\n",
    "S3_BUCKET              = config_s3.get('S3', 'NAME')"
   ]
  },
  {
   "cell_type": "code",
   "execution_count": 21,
   "metadata": {},
   "outputs": [],
   "source": [
    "s3_client = boto3.client(\n",
    "    's3',\n",
    "    aws_access_key_id=KEY,\n",
    "    aws_secret_access_key= SECRET\n",
    ")"
   ]
  },
  {
   "cell_type": "code",
   "execution_count": 27,
   "metadata": {},
   "outputs": [],
   "source": [
    "response = s3_client.create_bucket(\n",
    "    ACL='public-read-write',\n",
    "    Bucket=S3_BUCKET,\n",
    "    CreateBucketConfiguration={\n",
    "        'LocationConstraint': S3_REGION\n",
    "    },\n",
    "#     GrantFullControl='string',\n",
    "#     GrantRead='string',\n",
    "#     GrantReadACP='string',\n",
    "#     GrantWrite='string',\n",
    "#     GrantWriteACP='string',\n",
    "#     ObjectLockEnabledForBucket=True|False\n",
    ")"
   ]
  },
  {
   "cell_type": "code",
   "execution_count": 30,
   "metadata": {},
   "outputs": [
    {
     "name": "stdout",
     "output_type": "stream",
     "text": [
      "{'ResponseMetadata': {'RequestId': '240C11DBCA15E2B4', 'HostId': '2Pp1a76WSSQIC0rTqaijJa2UvWOQwUKlytXvyMrsTIyEPsLEPY9eEYlgvF8DDbi/xrmqnpLZWR0=', 'HTTPStatusCode': 200, 'HTTPHeaders': {'x-amz-id-2': '2Pp1a76WSSQIC0rTqaijJa2UvWOQwUKlytXvyMrsTIyEPsLEPY9eEYlgvF8DDbi/xrmqnpLZWR0=', 'x-amz-request-id': '240C11DBCA15E2B4', 'date': 'Sat, 12 Sep 2020 16:10:58 GMT', 'location': 'http://immigrate-demographics-s3-1629.s3.amazonaws.com/', 'content-length': '0', 'server': 'AmazonS3'}, 'RetryAttempts': 0}, 'Location': 'http://immigrate-demographics-s3-1629.s3.amazonaws.com/'}\n"
     ]
    }
   ],
   "source": [
    "print(response)"
   ]
  },
  {
   "cell_type": "code",
   "execution_count": 38,
   "metadata": {},
   "outputs": [
    {
     "name": "stdout",
     "output_type": "stream",
     "text": [
      "\n",
      "===\n",
      "data/sas_data ['.ipynb_checkpoints'] ['part-00003-b9542815-7a8d-45fc-9c67-c9c5007ad0d4-c000.snappy.parquet', '.part-00003-b9542815-7a8d-45fc-9c67-c9c5007ad0d4-c000.snappy.parquet.crc', '.part-00012-b9542815-7a8d-45fc-9c67-c9c5007ad0d4-c000.snappy.parquet.crc', 'part-00008-b9542815-7a8d-45fc-9c67-c9c5007ad0d4-c000.snappy.parquet', '.part-00011-b9542815-7a8d-45fc-9c67-c9c5007ad0d4-c000.snappy.parquet.crc', 'part-00004-b9542815-7a8d-45fc-9c67-c9c5007ad0d4-c000.snappy.parquet', 'part-00013-b9542815-7a8d-45fc-9c67-c9c5007ad0d4-c000.snappy.parquet', '.part-00000-b9542815-7a8d-45fc-9c67-c9c5007ad0d4-c000.snappy.parquet.crc', 'part-00005-b9542815-7a8d-45fc-9c67-c9c5007ad0d4-c000.snappy.parquet', '._SUCCESS.crc', '.part-00008-b9542815-7a8d-45fc-9c67-c9c5007ad0d4-c000.snappy.parquet.crc', 'part-00012-b9542815-7a8d-45fc-9c67-c9c5007ad0d4-c000.snappy.parquet', '.part-00004-b9542815-7a8d-45fc-9c67-c9c5007ad0d4-c000.snappy.parquet.crc', 'part-00002-b9542815-7a8d-45fc-9c67-c9c5007ad0d4-c000.snappy.parquet', '.part-00007-b9542815-7a8d-45fc-9c67-c9c5007ad0d4-c000.snappy.parquet.crc', 'part-00009-b9542815-7a8d-45fc-9c67-c9c5007ad0d4-c000.snappy.parquet', 'part-00007-b9542815-7a8d-45fc-9c67-c9c5007ad0d4-c000.snappy.parquet', '.part-00002-b9542815-7a8d-45fc-9c67-c9c5007ad0d4-c000.snappy.parquet.crc', '.part-00013-b9542815-7a8d-45fc-9c67-c9c5007ad0d4-c000.snappy.parquet.crc', 'part-00010-b9542815-7a8d-45fc-9c67-c9c5007ad0d4-c000.snappy.parquet', 'part-00000-b9542815-7a8d-45fc-9c67-c9c5007ad0d4-c000.snappy.parquet', '.part-00010-b9542815-7a8d-45fc-9c67-c9c5007ad0d4-c000.snappy.parquet.crc', '.part-00001-b9542815-7a8d-45fc-9c67-c9c5007ad0d4-c000.snappy.parquet.crc', 'part-00001-b9542815-7a8d-45fc-9c67-c9c5007ad0d4-c000.snappy.parquet', '_SUCCESS', '.part-00009-b9542815-7a8d-45fc-9c67-c9c5007ad0d4-c000.snappy.parquet.crc', '.part-00005-b9542815-7a8d-45fc-9c67-c9c5007ad0d4-c000.snappy.parquet.crc', 'part-00006-b9542815-7a8d-45fc-9c67-c9c5007ad0d4-c000.snappy.parquet', '.part-00006-b9542815-7a8d-45fc-9c67-c9c5007ad0d4-c000.snappy.parquet.crc', 'part-00011-b9542815-7a8d-45fc-9c67-c9c5007ad0d4-c000.snappy.parquet']\n",
      "\n",
      "===\n",
      "data/sas_data/.ipynb_checkpoints [] ['_SUCCESS-checkpoint']\n"
     ]
    }
   ],
   "source": [
    "for root,dirs,files in os.walk('data/sas_data'):\n",
    "    print(\"\\n===\")\n",
    "    print(root, dirs, files)"
   ]
  },
  {
   "cell_type": "code",
   "execution_count": 40,
   "metadata": {},
   "outputs": [],
   "source": [
    "for root,dirs,files in os.walk('data/sas_data'):\n",
    "    for file in files:\n",
    "        upload_from = os.path.join(root, file)\n",
    "        upload_to = os.path.join(root, file)\n",
    "        s3_client.upload_file(upload_from, S3_NAME, upload_to)"
   ]
  },
  {
   "cell_type": "code",
   "execution_count": 43,
   "metadata": {},
   "outputs": [],
   "source": [
    "## create log folder for EMR\n",
    "# s3_path = f\"s3://{S3_BUCKET}/logs\""
   ]
  },
  {
   "cell_type": "code",
   "execution_count": 47,
   "metadata": {},
   "outputs": [
    {
     "data": {
      "text/plain": [
       "{'ResponseMetadata': {'RequestId': '535F9514F9AB81BC',\n",
       "  'HostId': 'qXaJOO6qRcjD1h+gwXooiEoxNWEpY9rU7hHgmSV02xsA/8A+oX680+3DSw/xd3xA90k1j+a+LEE=',\n",
       "  'HTTPStatusCode': 200,\n",
       "  'HTTPHeaders': {'x-amz-id-2': 'qXaJOO6qRcjD1h+gwXooiEoxNWEpY9rU7hHgmSV02xsA/8A+oX680+3DSw/xd3xA90k1j+a+LEE=',\n",
       "   'x-amz-request-id': '535F9514F9AB81BC',\n",
       "   'date': 'Sat, 12 Sep 2020 17:28:14 GMT',\n",
       "   'etag': '\"d41d8cd98f00b204e9800998ecf8427e\"',\n",
       "   'content-length': '0',\n",
       "   'server': 'AmazonS3'},\n",
       "  'RetryAttempts': 0},\n",
       " 'ETag': '\"d41d8cd98f00b204e9800998ecf8427e\"'}"
      ]
     },
     "execution_count": 47,
     "metadata": {},
     "output_type": "execute_result"
    }
   ],
   "source": [
    "s3_client.put_object(ACL='public-read-write',\n",
    "                     Bucket=S3_BUCKET, \n",
    "                     Key='logs/')"
   ]
  },
  {
   "cell_type": "code",
   "execution_count": null,
   "metadata": {},
   "outputs": [],
   "source": []
  }
 ],
 "metadata": {
  "kernelspec": {
   "display_name": "Python 3",
   "language": "python",
   "name": "python3"
  },
  "language_info": {
   "codemirror_mode": {
    "name": "ipython",
    "version": 3
   },
   "file_extension": ".py",
   "mimetype": "text/x-python",
   "name": "python",
   "nbconvert_exporter": "python",
   "pygments_lexer": "ipython3",
   "version": "3.7.6"
  }
 },
 "nbformat": 4,
 "nbformat_minor": 4
}
