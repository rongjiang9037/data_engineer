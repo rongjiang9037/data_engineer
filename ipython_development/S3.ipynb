{
 "cells": [
  {
   "cell_type": "code",
   "execution_count": 18,
   "metadata": {},
   "outputs": [],
   "source": [
    "import time\n",
    "import boto3\n",
    "import os\n",
    "import configparser"
   ]
  },
  {
   "cell_type": "code",
   "execution_count": 3,
   "metadata": {},
   "outputs": [
    {
     "name": "stdout",
     "output_type": "stream",
     "text": [
      "29_2150_compressed_GlobalLandTemperaturesByCity.csv.zip\r\n",
      "29_2150_compressed_GlobalLandTemperaturesByCountry.csv.zip\r\n",
      "29_2150_compressed_GlobalLandTemperaturesByMajorCity.csv.zip\r\n",
      "29_2150_compressed_GlobalLandTemperaturesByState.csv.zip\r\n",
      "I94_SAS_Labels_Descriptions.SAS\r\n",
      "airport-codes_csv.csv\r\n",
      "capstone-user.csv\r\n",
      "datasets_29_2150_GlobalTemperatures.csv\r\n",
      "immigration_data_sample.csv\r\n",
      "\u001b[34moutput\u001b[m\u001b[m\r\n",
      "\u001b[34msas_data\u001b[m\u001b[m\r\n",
      "sub-est2019_all.csv\r\n",
      "us-cities-demographics.csv\r\n",
      "us_states.csv\r\n"
     ]
    }
   ],
   "source": [
    "!ls ../data"
   ]
  },
  {
   "cell_type": "code",
   "execution_count": 6,
   "metadata": {},
   "outputs": [],
   "source": [
    "config_aws = configparser.ConfigParser()\n",
    "config_aws.read_file(open('../aws_credentials.cfg'))\n",
    "\n",
    "KEY                    = config_aws.get('AWS','KEY')\n",
    "SECRET                 = config_aws.get('AWS','SECRET')\n",
    "ARN                    = config_aws.get('AWS', 'IAM_ARN')"
   ]
  },
  {
   "cell_type": "code",
   "execution_count": 24,
   "metadata": {},
   "outputs": [],
   "source": [
    "config_s3 = configparser.ConfigParser()\n",
    "config_s3.read_file(open('../aws_setup.cfg'))\n",
    "\n",
    "S3_REGION              = config_s3.get('S3', 'REGION')\n",
    "S3_BUCKET_NAME         = config_s3.get('S3', 'NAME')"
   ]
  },
  {
   "cell_type": "code",
   "execution_count": 45,
   "metadata": {},
   "outputs": [],
   "source": [
    "s3 = boto3.resource(\n",
    "    's3',\n",
    "    aws_access_key_id=KEY,\n",
    "    aws_secret_access_key= SECRET\n",
    ")"
   ]
  },
  {
   "cell_type": "code",
   "execution_count": 8,
   "metadata": {},
   "outputs": [],
   "source": [
    "s3_client = boto3.client(\n",
    "    's3',\n",
    "    aws_access_key_id=KEY,\n",
    "    aws_secret_access_key= SECRET\n",
    ")"
   ]
  },
  {
   "cell_type": "code",
   "execution_count": 27,
   "metadata": {},
   "outputs": [],
   "source": [
    "response = s3_client.create_bucket(\n",
    "    ACL='public-read-write',\n",
    "    Bucket=S3_BUCKET,\n",
    "    CreateBucketConfiguration={\n",
    "        'LocationConstraint': S3_REGION\n",
    "    },\n",
    ")"
   ]
  },
  {
   "cell_type": "code",
   "execution_count": 30,
   "metadata": {},
   "outputs": [
    {
     "name": "stdout",
     "output_type": "stream",
     "text": [
      "{'ResponseMetadata': {'RequestId': '240C11DBCA15E2B4', 'HostId': '2Pp1a76WSSQIC0rTqaijJa2UvWOQwUKlytXvyMrsTIyEPsLEPY9eEYlgvF8DDbi/xrmqnpLZWR0=', 'HTTPStatusCode': 200, 'HTTPHeaders': {'x-amz-id-2': '2Pp1a76WSSQIC0rTqaijJa2UvWOQwUKlytXvyMrsTIyEPsLEPY9eEYlgvF8DDbi/xrmqnpLZWR0=', 'x-amz-request-id': '240C11DBCA15E2B4', 'date': 'Sat, 12 Sep 2020 16:10:58 GMT', 'location': 'http://immigrate-demographics-s3-1629.s3.amazonaws.com/', 'content-length': '0', 'server': 'AmazonS3'}, 'RetryAttempts': 0}, 'Location': 'http://immigrate-demographics-s3-1629.s3.amazonaws.com/'}\n"
     ]
    }
   ],
   "source": [
    "print(response)"
   ]
  },
  {
   "cell_type": "code",
   "execution_count": 29,
   "metadata": {},
   "outputs": [],
   "source": [
    "def upload_folder(s3_client, folder_path, file_key):\n",
    "    file_path = os.path.join(folder_path, file_key)\n",
    "    for root, dirs, files in os.walk(file_path):\n",
    "        for file in files:\n",
    "            upload_from = os.path.join(root, file)\n",
    "            upload_to = os.path.join(file_key, file)\n",
    "            s3_client.upload_file(upload_from, S3_BUCKET_NAME, upload_to)"
   ]
  },
  {
   "cell_type": "code",
   "execution_count": 30,
   "metadata": {},
   "outputs": [
    {
     "name": "stdout",
     "output_type": "stream",
     "text": [
      "../data/sas_data part-00003-b9542815-7a8d-45fc-9c67-c9c5007ad0d4-c000.snappy.parquet\n",
      "../data/sas_data .part-00003-b9542815-7a8d-45fc-9c67-c9c5007ad0d4-c000.snappy.parquet.crc\n",
      "../data/sas_data .part-00012-b9542815-7a8d-45fc-9c67-c9c5007ad0d4-c000.snappy.parquet.crc\n",
      "../data/sas_data part-00008-b9542815-7a8d-45fc-9c67-c9c5007ad0d4-c000.snappy.parquet\n",
      "../data/sas_data .part-00011-b9542815-7a8d-45fc-9c67-c9c5007ad0d4-c000.snappy.parquet.crc\n",
      "../data/sas_data part-00004-b9542815-7a8d-45fc-9c67-c9c5007ad0d4-c000.snappy.parquet\n",
      "../data/sas_data part-00013-b9542815-7a8d-45fc-9c67-c9c5007ad0d4-c000.snappy.parquet\n",
      "../data/sas_data .part-00000-b9542815-7a8d-45fc-9c67-c9c5007ad0d4-c000.snappy.parquet.crc\n",
      "../data/sas_data part-00005-b9542815-7a8d-45fc-9c67-c9c5007ad0d4-c000.snappy.parquet\n",
      "../data/sas_data ._SUCCESS.crc\n",
      "../data/sas_data .part-00008-b9542815-7a8d-45fc-9c67-c9c5007ad0d4-c000.snappy.parquet.crc\n",
      "../data/sas_data part-00012-b9542815-7a8d-45fc-9c67-c9c5007ad0d4-c000.snappy.parquet\n",
      "../data/sas_data .part-00004-b9542815-7a8d-45fc-9c67-c9c5007ad0d4-c000.snappy.parquet.crc\n",
      "../data/sas_data part-00002-b9542815-7a8d-45fc-9c67-c9c5007ad0d4-c000.snappy.parquet\n",
      "../data/sas_data .part-00007-b9542815-7a8d-45fc-9c67-c9c5007ad0d4-c000.snappy.parquet.crc\n",
      "../data/sas_data part-00009-b9542815-7a8d-45fc-9c67-c9c5007ad0d4-c000.snappy.parquet\n",
      "../data/sas_data part-00007-b9542815-7a8d-45fc-9c67-c9c5007ad0d4-c000.snappy.parquet\n",
      "../data/sas_data .part-00002-b9542815-7a8d-45fc-9c67-c9c5007ad0d4-c000.snappy.parquet.crc\n",
      "../data/sas_data .part-00013-b9542815-7a8d-45fc-9c67-c9c5007ad0d4-c000.snappy.parquet.crc\n",
      "../data/sas_data part-00010-b9542815-7a8d-45fc-9c67-c9c5007ad0d4-c000.snappy.parquet\n",
      "../data/sas_data part-00000-b9542815-7a8d-45fc-9c67-c9c5007ad0d4-c000.snappy.parquet\n",
      "../data/sas_data .part-00010-b9542815-7a8d-45fc-9c67-c9c5007ad0d4-c000.snappy.parquet.crc\n",
      "../data/sas_data .part-00001-b9542815-7a8d-45fc-9c67-c9c5007ad0d4-c000.snappy.parquet.crc\n",
      "../data/sas_data part-00001-b9542815-7a8d-45fc-9c67-c9c5007ad0d4-c000.snappy.parquet\n",
      "../data/sas_data _SUCCESS\n",
      "../data/sas_data .part-00009-b9542815-7a8d-45fc-9c67-c9c5007ad0d4-c000.snappy.parquet.crc\n",
      "../data/sas_data .part-00005-b9542815-7a8d-45fc-9c67-c9c5007ad0d4-c000.snappy.parquet.crc\n",
      "../data/sas_data part-00006-b9542815-7a8d-45fc-9c67-c9c5007ad0d4-c000.snappy.parquet\n",
      "../data/sas_data .part-00006-b9542815-7a8d-45fc-9c67-c9c5007ad0d4-c000.snappy.parquet.crc\n",
      "../data/sas_data part-00011-b9542815-7a8d-45fc-9c67-c9c5007ad0d4-c000.snappy.parquet\n",
      "../data/sas_data/.ipynb_checkpoints _SUCCESS-checkpoint\n",
      "===Uploaded files to S3. Used time  0.28min\n"
     ]
    }
   ],
   "source": [
    "st = time.time()\n",
    "upload_folder(s3_client, '..', 'data/sas_data')\n",
    "print(f\"===Uploaded files to S3. Used time {(time.time() - st)/60:5.2f}min\")"
   ]
  },
  {
   "cell_type": "code",
   "execution_count": 31,
   "metadata": {},
   "outputs": [],
   "source": [
    "def upload_file(s3_client, folder_path, file_key):\n",
    "    upload_from = os.path.join(folder_path, file_key)\n",
    "    upload_to = os.path.join(file_key)\n",
    "    s3_client.upload_file(upload_from, S3_BUCKET_NAME, upload_to)"
   ]
  },
  {
   "cell_type": "code",
   "execution_count": 32,
   "metadata": {},
   "outputs": [],
   "source": [
    "upload_file(s3_client, '..', 'data/immigration_data_sample.csv')"
   ]
  },
  {
   "cell_type": "code",
   "execution_count": 33,
   "metadata": {},
   "outputs": [],
   "source": [
    "upload_file(s3_client, '..', 'data/us_states.csv')"
   ]
  },
  {
   "cell_type": "code",
   "execution_count": 34,
   "metadata": {},
   "outputs": [],
   "source": [
    "upload_file(s3_client, '..', 'data/I94_SAS_Labels_Descriptions.SAS')"
   ]
  },
  {
   "cell_type": "code",
   "execution_count": 35,
   "metadata": {},
   "outputs": [],
   "source": [
    "upload_file(s3_client, '..', 'data/us-cities-demographics.csv')"
   ]
  },
  {
   "cell_type": "code",
   "execution_count": 36,
   "metadata": {},
   "outputs": [],
   "source": [
    "def create_folder(s3_client, folder_name):\n",
    "    s3_client.put_object(ACL='public-read-write',\n",
    "                     Bucket=S3_BUCKET_NAME, \n",
    "                     Key=folder_name+'/')\n",
    "    "
   ]
  },
  {
   "cell_type": "code",
   "execution_count": 37,
   "metadata": {},
   "outputs": [],
   "source": [
    "create_folder(s3_client, 'logs')"
   ]
  },
  {
   "cell_type": "code",
   "execution_count": 49,
   "metadata": {},
   "outputs": [
    {
     "data": {
      "text/plain": [
       "True"
      ]
     },
     "execution_count": 49,
     "metadata": {},
     "output_type": "execute_result"
    }
   ],
   "source": [
    "s3.Bucket(S3_BUCKET_NAME) in s3.buckets.all()"
   ]
  },
  {
   "cell_type": "code",
   "execution_count": 43,
   "metadata": {},
   "outputs": [
    {
     "ename": "ParamValidationError",
     "evalue": "Parameter validation failed:\nMissing required parameter in input: \"Key\"",
     "output_type": "error",
     "traceback": [
      "\u001b[0;31m---------------------------------------------------------------------------\u001b[0m",
      "\u001b[0;31mParamValidationError\u001b[0m                      Traceback (most recent call last)",
      "\u001b[0;32m<ipython-input-43-bfb868ba5f7e>\u001b[0m in \u001b[0;36m<module>\u001b[0;34m\u001b[0m\n\u001b[0;32m----> 1\u001b[0;31m \u001b[0ms3_client\u001b[0m\u001b[0;34m.\u001b[0m\u001b[0mget_object\u001b[0m\u001b[0;34m(\u001b[0m\u001b[0mBucket\u001b[0m\u001b[0;34m=\u001b[0m\u001b[0mS3_BUCKET_NAME\u001b[0m\u001b[0;34m)\u001b[0m\u001b[0;34m\u001b[0m\u001b[0;34m\u001b[0m\u001b[0m\n\u001b[0m",
      "\u001b[0;32m~/opt/anaconda3/lib/python3.7/site-packages/botocore/client.py\u001b[0m in \u001b[0;36m_api_call\u001b[0;34m(self, *args, **kwargs)\u001b[0m\n\u001b[1;32m    314\u001b[0m                     \"%s() only accepts keyword arguments.\" % py_operation_name)\n\u001b[1;32m    315\u001b[0m             \u001b[0;31m# The \"self\" in this scope is referring to the BaseClient.\u001b[0m\u001b[0;34m\u001b[0m\u001b[0;34m\u001b[0m\u001b[0;34m\u001b[0m\u001b[0m\n\u001b[0;32m--> 316\u001b[0;31m             \u001b[0;32mreturn\u001b[0m \u001b[0mself\u001b[0m\u001b[0;34m.\u001b[0m\u001b[0m_make_api_call\u001b[0m\u001b[0;34m(\u001b[0m\u001b[0moperation_name\u001b[0m\u001b[0;34m,\u001b[0m \u001b[0mkwargs\u001b[0m\u001b[0;34m)\u001b[0m\u001b[0;34m\u001b[0m\u001b[0;34m\u001b[0m\u001b[0m\n\u001b[0m\u001b[1;32m    317\u001b[0m \u001b[0;34m\u001b[0m\u001b[0m\n\u001b[1;32m    318\u001b[0m         \u001b[0m_api_call\u001b[0m\u001b[0;34m.\u001b[0m\u001b[0m__name__\u001b[0m \u001b[0;34m=\u001b[0m \u001b[0mstr\u001b[0m\u001b[0;34m(\u001b[0m\u001b[0mpy_operation_name\u001b[0m\u001b[0;34m)\u001b[0m\u001b[0;34m\u001b[0m\u001b[0;34m\u001b[0m\u001b[0m\n",
      "\u001b[0;32m~/opt/anaconda3/lib/python3.7/site-packages/botocore/client.py\u001b[0m in \u001b[0;36m_make_api_call\u001b[0;34m(self, operation_name, api_params)\u001b[0m\n\u001b[1;32m    606\u001b[0m         }\n\u001b[1;32m    607\u001b[0m         request_dict = self._convert_to_request_dict(\n\u001b[0;32m--> 608\u001b[0;31m             api_params, operation_model, context=request_context)\n\u001b[0m\u001b[1;32m    609\u001b[0m \u001b[0;34m\u001b[0m\u001b[0m\n\u001b[1;32m    610\u001b[0m         \u001b[0mservice_id\u001b[0m \u001b[0;34m=\u001b[0m \u001b[0mself\u001b[0m\u001b[0;34m.\u001b[0m\u001b[0m_service_model\u001b[0m\u001b[0;34m.\u001b[0m\u001b[0mservice_id\u001b[0m\u001b[0;34m.\u001b[0m\u001b[0mhyphenize\u001b[0m\u001b[0;34m(\u001b[0m\u001b[0;34m)\u001b[0m\u001b[0;34m\u001b[0m\u001b[0;34m\u001b[0m\u001b[0m\n",
      "\u001b[0;32m~/opt/anaconda3/lib/python3.7/site-packages/botocore/client.py\u001b[0m in \u001b[0;36m_convert_to_request_dict\u001b[0;34m(self, api_params, operation_model, context)\u001b[0m\n\u001b[1;32m    654\u001b[0m             api_params, operation_model, context)\n\u001b[1;32m    655\u001b[0m         request_dict = self._serializer.serialize_to_request(\n\u001b[0;32m--> 656\u001b[0;31m             api_params, operation_model)\n\u001b[0m\u001b[1;32m    657\u001b[0m         \u001b[0;32mif\u001b[0m \u001b[0;32mnot\u001b[0m \u001b[0mself\u001b[0m\u001b[0;34m.\u001b[0m\u001b[0m_client_config\u001b[0m\u001b[0;34m.\u001b[0m\u001b[0minject_host_prefix\u001b[0m\u001b[0;34m:\u001b[0m\u001b[0;34m\u001b[0m\u001b[0;34m\u001b[0m\u001b[0m\n\u001b[1;32m    658\u001b[0m             \u001b[0mrequest_dict\u001b[0m\u001b[0;34m.\u001b[0m\u001b[0mpop\u001b[0m\u001b[0;34m(\u001b[0m\u001b[0;34m'host_prefix'\u001b[0m\u001b[0;34m,\u001b[0m \u001b[0;32mNone\u001b[0m\u001b[0;34m)\u001b[0m\u001b[0;34m\u001b[0m\u001b[0;34m\u001b[0m\u001b[0m\n",
      "\u001b[0;32m~/opt/anaconda3/lib/python3.7/site-packages/botocore/validate.py\u001b[0m in \u001b[0;36mserialize_to_request\u001b[0;34m(self, parameters, operation_model)\u001b[0m\n\u001b[1;32m    295\u001b[0m                                                     operation_model.input_shape)\n\u001b[1;32m    296\u001b[0m             \u001b[0;32mif\u001b[0m \u001b[0mreport\u001b[0m\u001b[0;34m.\u001b[0m\u001b[0mhas_errors\u001b[0m\u001b[0;34m(\u001b[0m\u001b[0;34m)\u001b[0m\u001b[0;34m:\u001b[0m\u001b[0;34m\u001b[0m\u001b[0;34m\u001b[0m\u001b[0m\n\u001b[0;32m--> 297\u001b[0;31m                 \u001b[0;32mraise\u001b[0m \u001b[0mParamValidationError\u001b[0m\u001b[0;34m(\u001b[0m\u001b[0mreport\u001b[0m\u001b[0;34m=\u001b[0m\u001b[0mreport\u001b[0m\u001b[0;34m.\u001b[0m\u001b[0mgenerate_report\u001b[0m\u001b[0;34m(\u001b[0m\u001b[0;34m)\u001b[0m\u001b[0;34m)\u001b[0m\u001b[0;34m\u001b[0m\u001b[0;34m\u001b[0m\u001b[0m\n\u001b[0m\u001b[1;32m    298\u001b[0m         return self._serializer.serialize_to_request(parameters,\n\u001b[1;32m    299\u001b[0m                                                      operation_model)\n",
      "\u001b[0;31mParamValidationError\u001b[0m: Parameter validation failed:\nMissing required parameter in input: \"Key\""
     ]
    }
   ],
   "source": [
    "s3_client.get_object(Bucket=S3_BUCKET_NAME)"
   ]
  },
  {
   "cell_type": "code",
   "execution_count": null,
   "metadata": {},
   "outputs": [],
   "source": []
  }
 ],
 "metadata": {
  "kernelspec": {
   "display_name": "Python 3",
   "language": "python",
   "name": "python3"
  },
  "language_info": {
   "codemirror_mode": {
    "name": "ipython",
    "version": 3
   },
   "file_extension": ".py",
   "mimetype": "text/x-python",
   "name": "python",
   "nbconvert_exporter": "python",
   "pygments_lexer": "ipython3",
   "version": "3.7.6"
  }
 },
 "nbformat": 4,
 "nbformat_minor": 4
}
