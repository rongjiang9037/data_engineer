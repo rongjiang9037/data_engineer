{
 "cells": [
  {
   "cell_type": "code",
   "execution_count": 18,
   "metadata": {},
   "outputs": [],
   "source": [
    "import time\n",
    "import boto3\n",
    "import os\n",
    "import configparser"
   ]
  },
  {
   "cell_type": "code",
   "execution_count": 3,
   "metadata": {},
   "outputs": [
    {
     "name": "stdout",
     "output_type": "stream",
     "text": [
      "29_2150_compressed_GlobalLandTemperaturesByCity.csv.zip\r\n",
      "29_2150_compressed_GlobalLandTemperaturesByCountry.csv.zip\r\n",
      "29_2150_compressed_GlobalLandTemperaturesByMajorCity.csv.zip\r\n",
      "29_2150_compressed_GlobalLandTemperaturesByState.csv.zip\r\n",
      "I94_SAS_Labels_Descriptions.SAS\r\n",
      "airport-codes_csv.csv\r\n",
      "capstone-user.csv\r\n",
      "datasets_29_2150_GlobalTemperatures.csv\r\n",
      "immigration_data_sample.csv\r\n",
      "\u001b[34moutput\u001b[m\u001b[m\r\n",
      "\u001b[34msas_data\u001b[m\u001b[m\r\n",
      "sub-est2019_all.csv\r\n",
      "us-cities-demographics.csv\r\n",
      "us_states.csv\r\n"
     ]
    }
   ],
   "source": [
    "!ls ../data"
   ]
  },
  {
   "cell_type": "code",
   "execution_count": 6,
   "metadata": {},
   "outputs": [],
   "source": [
    "config_aws = configparser.ConfigParser()\n",
    "config_aws.read_file(open('../aws_credentials.cfg'))\n",
    "\n",
    "KEY                    = config_aws.get('AWS','KEY')\n",
    "SECRET                 = config_aws.get('AWS','SECRET')\n",
    "ARN                    = config_aws.get('AWS', 'IAM_ARN')"
   ]
  },
  {
   "cell_type": "code",
   "execution_count": 24,
   "metadata": {},
   "outputs": [],
   "source": [
    "config_s3 = configparser.ConfigParser()\n",
    "config_s3.read_file(open('../aws_setup.cfg'))\n",
    "\n",
    "S3_REGION              = config_s3.get('S3', 'REGION')\n",
    "S3_BUCKET_NAME         = config_s3.get('S3', 'NAME')"
   ]
  },
  {
   "cell_type": "code",
   "execution_count": 45,
   "metadata": {},
   "outputs": [],
   "source": [
    "s3 = boto3.resource(\n",
    "    's3',\n",
    "    aws_access_key_id=KEY,\n",
    "    aws_secret_access_key= SECRET\n",
    ")"
   ]
  },
  {
   "cell_type": "code",
   "execution_count": 8,
   "metadata": {},
   "outputs": [],
   "source": [
    "s3_client = boto3.client(\n",
    "    's3',\n",
    "    aws_access_key_id=KEY,\n",
    "    aws_secret_access_key= SECRET\n",
    ")"
   ]
  },
  {
   "cell_type": "code",
   "execution_count": 27,
   "metadata": {},
   "outputs": [],
   "source": [
    "response = s3_client.create_bucket(\n",
    "#     ACL='public-read-write',\n",
    "    Bucket=S3_BUCKET,\n",
    "    CreateBucketConfiguration={\n",
    "        'LocationConstraint': S3_REGION\n",
    "    },\n",
    ")"
   ]
  },
  {
   "cell_type": "code",
   "execution_count": 30,
   "metadata": {},
   "outputs": [
    {
     "name": "stdout",
     "output_type": "stream",
     "text": [
      "{'ResponseMetadata': {'RequestId': '240C11DBCA15E2B4', 'HostId': '2Pp1a76WSSQIC0rTqaijJa2UvWOQwUKlytXvyMrsTIyEPsLEPY9eEYlgvF8DDbi/xrmqnpLZWR0=', 'HTTPStatusCode': 200, 'HTTPHeaders': {'x-amz-id-2': '2Pp1a76WSSQIC0rTqaijJa2UvWOQwUKlytXvyMrsTIyEPsLEPY9eEYlgvF8DDbi/xrmqnpLZWR0=', 'x-amz-request-id': '240C11DBCA15E2B4', 'date': 'Sat, 12 Sep 2020 16:10:58 GMT', 'location': 'http://immigrate-demographics-s3-1629.s3.amazonaws.com/', 'content-length': '0', 'server': 'AmazonS3'}, 'RetryAttempts': 0}, 'Location': 'http://immigrate-demographics-s3-1629.s3.amazonaws.com/'}\n"
     ]
    }
   ],
   "source": [
    "print(response)"
   ]
  },
  {
   "cell_type": "code",
   "execution_count": 29,
   "metadata": {},
   "outputs": [],
   "source": [
    "def upload_folder(s3_client, folder_path, file_key):\n",
    "    file_path = os.path.join(folder_path, file_key)\n",
    "    for root, dirs, files in os.walk(file_path):\n",
    "        for file in files:\n",
    "            upload_from = os.path.join(root, file)\n",
    "            upload_to = os.path.join(file_key, file)\n",
    "            s3_client.upload_file(upload_from, S3_BUCKET_NAME, upload_to)"
   ]
  },
  {
   "cell_type": "code",
   "execution_count": 30,
   "metadata": {},
   "outputs": [
    {
     "name": "stdout",
     "output_type": "stream",
     "text": [
      "../data/sas_data part-00003-b9542815-7a8d-45fc-9c67-c9c5007ad0d4-c000.snappy.parquet\n",
      "../data/sas_data .part-00003-b9542815-7a8d-45fc-9c67-c9c5007ad0d4-c000.snappy.parquet.crc\n",
      "../data/sas_data .part-00012-b9542815-7a8d-45fc-9c67-c9c5007ad0d4-c000.snappy.parquet.crc\n",
      "../data/sas_data part-00008-b9542815-7a8d-45fc-9c67-c9c5007ad0d4-c000.snappy.parquet\n",
      "../data/sas_data .part-00011-b9542815-7a8d-45fc-9c67-c9c5007ad0d4-c000.snappy.parquet.crc\n",
      "../data/sas_data part-00004-b9542815-7a8d-45fc-9c67-c9c5007ad0d4-c000.snappy.parquet\n",
      "../data/sas_data part-00013-b9542815-7a8d-45fc-9c67-c9c5007ad0d4-c000.snappy.parquet\n",
      "../data/sas_data .part-00000-b9542815-7a8d-45fc-9c67-c9c5007ad0d4-c000.snappy.parquet.crc\n",
      "../data/sas_data part-00005-b9542815-7a8d-45fc-9c67-c9c5007ad0d4-c000.snappy.parquet\n",
      "../data/sas_data ._SUCCESS.crc\n",
      "../data/sas_data .part-00008-b9542815-7a8d-45fc-9c67-c9c5007ad0d4-c000.snappy.parquet.crc\n",
      "../data/sas_data part-00012-b9542815-7a8d-45fc-9c67-c9c5007ad0d4-c000.snappy.parquet\n",
      "../data/sas_data .part-00004-b9542815-7a8d-45fc-9c67-c9c5007ad0d4-c000.snappy.parquet.crc\n",
      "../data/sas_data part-00002-b9542815-7a8d-45fc-9c67-c9c5007ad0d4-c000.snappy.parquet\n",
      "../data/sas_data .part-00007-b9542815-7a8d-45fc-9c67-c9c5007ad0d4-c000.snappy.parquet.crc\n",
      "../data/sas_data part-00009-b9542815-7a8d-45fc-9c67-c9c5007ad0d4-c000.snappy.parquet\n",
      "../data/sas_data part-00007-b9542815-7a8d-45fc-9c67-c9c5007ad0d4-c000.snappy.parquet\n",
      "../data/sas_data .part-00002-b9542815-7a8d-45fc-9c67-c9c5007ad0d4-c000.snappy.parquet.crc\n",
      "../data/sas_data .part-00013-b9542815-7a8d-45fc-9c67-c9c5007ad0d4-c000.snappy.parquet.crc\n",
      "../data/sas_data part-00010-b9542815-7a8d-45fc-9c67-c9c5007ad0d4-c000.snappy.parquet\n",
      "../data/sas_data part-00000-b9542815-7a8d-45fc-9c67-c9c5007ad0d4-c000.snappy.parquet\n",
      "../data/sas_data .part-00010-b9542815-7a8d-45fc-9c67-c9c5007ad0d4-c000.snappy.parquet.crc\n",
      "../data/sas_data .part-00001-b9542815-7a8d-45fc-9c67-c9c5007ad0d4-c000.snappy.parquet.crc\n",
      "../data/sas_data part-00001-b9542815-7a8d-45fc-9c67-c9c5007ad0d4-c000.snappy.parquet\n",
      "../data/sas_data _SUCCESS\n",
      "../data/sas_data .part-00009-b9542815-7a8d-45fc-9c67-c9c5007ad0d4-c000.snappy.parquet.crc\n",
      "../data/sas_data .part-00005-b9542815-7a8d-45fc-9c67-c9c5007ad0d4-c000.snappy.parquet.crc\n",
      "../data/sas_data part-00006-b9542815-7a8d-45fc-9c67-c9c5007ad0d4-c000.snappy.parquet\n",
      "../data/sas_data .part-00006-b9542815-7a8d-45fc-9c67-c9c5007ad0d4-c000.snappy.parquet.crc\n",
      "../data/sas_data part-00011-b9542815-7a8d-45fc-9c67-c9c5007ad0d4-c000.snappy.parquet\n",
      "../data/sas_data/.ipynb_checkpoints _SUCCESS-checkpoint\n",
      "===Uploaded files to S3. Used time  0.28min\n"
     ]
    }
   ],
   "source": [
    "st = time.time()\n",
    "upload_folder(s3_client, '..', 'data/sas_data')\n",
    "print(f\"===Uploaded files to S3. Used time {(time.time() - st)/60:5.2f}min\")"
   ]
  },
  {
   "cell_type": "code",
   "execution_count": 31,
   "metadata": {},
   "outputs": [],
   "source": [
    "def upload_file(s3_client, folder_path, file_key):\n",
    "    upload_from = os.path.join(folder_path, file_key)\n",
    "    upload_to = os.path.join(file_key)\n",
    "    s3_client.upload_file(upload_from, S3_BUCKET_NAME, upload_to)"
   ]
  },
  {
   "cell_type": "code",
   "execution_count": 32,
   "metadata": {},
   "outputs": [],
   "source": [
    "upload_file(s3_client, '..', 'data/immigration_data_sample.csv')"
   ]
  },
  {
   "cell_type": "code",
   "execution_count": 33,
   "metadata": {},
   "outputs": [],
   "source": [
    "upload_file(s3_client, '..', 'data/us_states.csv')"
   ]
  },
  {
   "cell_type": "code",
   "execution_count": 34,
   "metadata": {},
   "outputs": [],
   "source": [
    "upload_file(s3_client, '..', 'data/I94_SAS_Labels_Descriptions.SAS')"
   ]
  },
  {
   "cell_type": "code",
   "execution_count": 35,
   "metadata": {},
   "outputs": [],
   "source": [
    "upload_file(s3_client, '..', 'data/us-cities-demographics.csv')"
   ]
  },
  {
   "cell_type": "code",
   "execution_count": 36,
   "metadata": {},
   "outputs": [],
   "source": [
    "def create_folder(s3_client, folder_name):\n",
    "    s3_client.put_object(ACL='public-read-write',\n",
    "                     Bucket=S3_BUCKET_NAME, \n",
    "                     Key=folder_name+'/')\n",
    "    "
   ]
  },
  {
   "cell_type": "code",
   "execution_count": 37,
   "metadata": {},
   "outputs": [],
   "source": [
    "create_folder(s3_client, 'logs')"
   ]
  },
  {
   "cell_type": "code",
   "execution_count": 49,
   "metadata": {},
   "outputs": [
    {
     "data": {
      "text/plain": [
       "True"
      ]
     },
     "execution_count": 49,
     "metadata": {},
     "output_type": "execute_result"
    }
   ],
   "source": [
    "s3.Bucket(S3_BUCKET_NAME) in s3.buckets.all()"
   ]
  },
  {
   "cell_type": "code",
   "execution_count": null,
   "metadata": {},
   "outputs": [],
   "source": []
  }
 ],
 "metadata": {
  "kernelspec": {
   "display_name": "Python 3",
   "language": "python",
   "name": "python3"
  },
  "language_info": {
   "codemirror_mode": {
    "name": "ipython",
    "version": 3
   },
   "file_extension": ".py",
   "mimetype": "text/x-python",
   "name": "python",
   "nbconvert_exporter": "python",
   "pygments_lexer": "ipython3",
   "version": "3.7.6"
  }
 },
 "nbformat": 4,
 "nbformat_minor": 4
}
