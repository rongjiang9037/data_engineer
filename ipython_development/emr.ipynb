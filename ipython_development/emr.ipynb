{
 "cells": [
  {
   "cell_type": "code",
   "execution_count": 87,
   "metadata": {},
   "outputs": [],
   "source": [
    "import configparser\n",
    "\n",
    "import boto3"
   ]
  },
  {
   "cell_type": "code",
   "execution_count": 88,
   "metadata": {},
   "outputs": [],
   "source": [
    "config_aws = configparser.ConfigParser()\n",
    "config_aws.read_file(open('../aws_credentials.cfg'))\n",
    "\n",
    "KEY                    = config_aws.get('AWS','KEY')\n",
    "SECRET                 = config_aws.get('AWS','SECRET')\n",
    "# IAM_NAME               = config_aws.get('AWS', 'IAM_NAME')\n",
    "# IAM_ARN                = config_aws.get('AWS', 'IAM_ARN')"
   ]
  },
  {
   "cell_type": "code",
   "execution_count": 114,
   "metadata": {},
   "outputs": [],
   "source": [
    "config_setup = configparser.ConfigParser()\n",
    "config_setup.read_file(open('../aws_setup.cfg'))\n",
    "\n",
    "KEY_PAIR_NAME          = config_setup.get('AWS', 'KEY_PAIR_NAME')\n",
    "\n",
    "EC2_NAME               = config_setup.get('EC2', 'NAME')\n",
    "VPC_NAME               = config_setup.get('VPC', 'NAME')\n",
    "PVR_SUBNET_NAME        = config_setup.get('VPC', 'PVR_SUBNET_NAME')\n",
    "PVR_SUBNET_REGION      = config_setup.get('VPC', 'PVR_SUBNET_REGION')\n",
    "PUB_SUBNET_NAME        = config_setup.get('VPC', 'PUB_SUBNET_NAME')\n",
    "PUB_SUBNET_REGION      = config_setup.get('VPC', 'PUB_SUBNET_REGION')\n",
    "\n",
    "EMR_NAME               = config_setup.get('EMR', 'NAME')\n",
    "EMR_TYPE               = config_setup.get('EMR', 'TYPE')\n",
    "EMR_REGION             = config_setup.get('EMR', 'REGION')\n",
    "EMR_MASTER_NAME        = config_setup.get('EMR', 'MASTER_NAME')\n",
    "EMR_WORKER_NAME        = config_setup.get('EMR', 'WORKER_NAME')\n",
    "MASTER_COUNT           = config_setup.get('EMR', 'MASTER_COUNT')\n",
    "WORKER_COUNT           = config_setup.get('EMR', 'WORKER_COUNT')\n",
    "\n",
    "S3_REGION              = config_setup.get('S3', 'REGION')\n",
    "S3_BUCKET              = config_setup.get('S3', 'NAME')"
   ]
  },
  {
   "cell_type": "code",
   "execution_count": 90,
   "metadata": {},
   "outputs": [],
   "source": [
    "ec2_client = boto3.client('ec2',\n",
    "                     aws_access_key_id=KEY,\n",
    "                     aws_secret_access_key= SECRET)"
   ]
  },
  {
   "cell_type": "code",
   "execution_count": 43,
   "metadata": {},
   "outputs": [],
   "source": [
    "pub_subnet = ec2_client.describe_subnets(Filters=[{'Name': 'tag:Name',\n",
    "                                      'Values':[PUB_SUBNET_NAME]}])"
   ]
  },
  {
   "cell_type": "code",
   "execution_count": 44,
   "metadata": {},
   "outputs": [
    {
     "data": {
      "text/plain": [
       "'subnet-07b1a633f0ba1b369'"
      ]
     },
     "execution_count": 44,
     "metadata": {},
     "output_type": "execute_result"
    }
   ],
   "source": [
    "pub_subnet['Subnets'][0]['SubnetId']"
   ]
  },
  {
   "cell_type": "code",
   "execution_count": 49,
   "metadata": {},
   "outputs": [],
   "source": [
    "emr_client = boto3.client('emr',\n",
    "                         region_name=EMR_REGION,\n",
    "                         aws_access_key_id=KEY,\n",
    "                         aws_secret_access_key= SECRET)"
   ]
  },
  {
   "cell_type": "code",
   "execution_count": 50,
   "metadata": {},
   "outputs": [],
   "source": [
    "cluster_id = emr_client.run_job_flow(\n",
    "    Name=EMR_NAME,\n",
    "    LogUri=f\"s3://{S3_BUCKET}/logs/\",\n",
    "    Instances={\n",
    "#         'MasterInstanceType': EMR_TYPE,\n",
    "#         'SlaveInstanceType': EMR_TYPE,\n",
    "        'InstanceGroups':[{\n",
    "            'Name': EMR_MASTER_NAME,\n",
    "            'Market':'ON_DEMAND',\n",
    "            'InstanceRole':'MASTER',\n",
    "            'InstanceType':EMR_TYPE,\n",
    "            'InstanceCount':int(MASTER_COUNT),\n",
    "        },\n",
    "        {   'Name': EMR_WORKER_NAME,\n",
    "            'Market':'ON_DEMAND',\n",
    "            'InstanceRole':'CORE',\n",
    "            'InstanceType':EMR_TYPE,\n",
    "            'InstanceCount':int(WORKER_COUNT),\n",
    "        }],\n",
    "        'Ec2KeyName':KEY_PAIR_NAME,\n",
    "        'Ec2SubnetId':pub_subnet['Subnets'][0]['SubnetId'],\n",
    "        'KeepJobFlowAliveWhenNoSteps':True\n",
    "    },\n",
    "    Applications=[\n",
    "        {   'Name':'Spark'},\n",
    "        {   'Name':'Hadoop'},\n",
    "        {   'Name': 'livy' },\n",
    "    ],\n",
    "    JobFlowRole='EMR_EC2_DefaultRole',\n",
    "    ServiceRole='EMR_DefaultRole',\n",
    "    ReleaseLabel='emr-5.28.0',\n",
    ")\n",
    "waiter = emr_client.get_waiter(\"cluster_running\")\n",
    "waiter.wait(\n",
    "    ClusterId=cluster_id['JobFlowId'],\n",
    ")"
   ]
  },
  {
   "cell_type": "code",
   "execution_count": 48,
   "metadata": {},
   "outputs": [
    {
     "data": {
      "text/plain": [
       "{'JobFlowId': 'j-21POIRC3P0R3F',\n",
       " 'ClusterArn': 'arn:aws:elasticmapreduce:us-east-2:736387989270:cluster/j-21POIRC3P0R3F',\n",
       " 'ResponseMetadata': {'RequestId': 'f859d389-107d-49a5-b9a5-b8c2d0963991',\n",
       "  'HTTPStatusCode': 200,\n",
       "  'HTTPHeaders': {'x-amzn-requestid': 'f859d389-107d-49a5-b9a5-b8c2d0963991',\n",
       "   'content-type': 'application/x-amz-json-1.1',\n",
       "   'content-length': '118',\n",
       "   'date': 'Thu, 17 Sep 2020 00:03:54 GMT'},\n",
       "  'RetryAttempts': 0}}"
      ]
     },
     "execution_count": 48,
     "metadata": {},
     "output_type": "execute_result"
    }
   ],
   "source": [
    "cluster_id"
   ]
  },
  {
   "cell_type": "code",
   "execution_count": null,
   "metadata": {},
   "outputs": [],
   "source": []
  },
  {
   "cell_type": "code",
   "execution_count": 91,
   "metadata": {},
   "outputs": [],
   "source": [
    "vpc = ec2_client.describe_vpcs(Filters=[{'Name': 'tag:Name',\n",
    "                                      'Values':[VPC_NAME]}])"
   ]
  },
  {
   "cell_type": "code",
   "execution_count": 115,
   "metadata": {},
   "outputs": [
    {
     "data": {
      "text/plain": [
       "{'PublicIpv4Pools': [],\n",
       " 'ResponseMetadata': {'RequestId': '89e17d35-05a4-4df9-9afc-73b24b97c9fe',\n",
       "  'HTTPStatusCode': 200,\n",
       "  'HTTPHeaders': {'x-amzn-requestid': '89e17d35-05a4-4df9-9afc-73b24b97c9fe',\n",
       "   'content-type': 'text/xml;charset=UTF-8',\n",
       "   'transfer-encoding': 'chunked',\n",
       "   'vary': 'accept-encoding',\n",
       "   'date': 'Fri, 18 Sep 2020 01:41:50 GMT',\n",
       "   'server': 'AmazonEC2'},\n",
       "  'RetryAttempts': 0}}"
      ]
     },
     "execution_count": 115,
     "metadata": {},
     "output_type": "execute_result"
    }
   ],
   "source": [
    "ec2_client.describe_public_ipv4_pools(Filters=[{'Name': 'tag:Name',\n",
    "                                      'Values':[EC2_NAME]}])"
   ]
  },
  {
   "cell_type": "code",
   "execution_count": 92,
   "metadata": {},
   "outputs": [
    {
     "data": {
      "text/plain": [
       "{'Vpcs': [{'CidrBlock': '20.0.0.0/16',\n",
       "   'DhcpOptionsId': 'dopt-6244e709',\n",
       "   'State': 'available',\n",
       "   'VpcId': 'vpc-070a25ab1177048a2',\n",
       "   'OwnerId': '736387989270',\n",
       "   'InstanceTenancy': 'default',\n",
       "   'CidrBlockAssociationSet': [{'AssociationId': 'vpc-cidr-assoc-0bd1940c813a3b3e0',\n",
       "     'CidrBlock': '20.0.0.0/16',\n",
       "     'CidrBlockState': {'State': 'associated'}}],\n",
       "   'IsDefault': False,\n",
       "   'Tags': [{'Key': 'Name', 'Value': 'IMMIGRATE_DEMOGRAPHICS_VPC'}]}],\n",
       " 'ResponseMetadata': {'RequestId': 'bf4355f8-a0b1-4a9a-9071-22daa11fe5d4',\n",
       "  'HTTPStatusCode': 200,\n",
       "  'HTTPHeaders': {'x-amzn-requestid': 'bf4355f8-a0b1-4a9a-9071-22daa11fe5d4',\n",
       "   'content-type': 'text/xml;charset=UTF-8',\n",
       "   'content-length': '1162',\n",
       "   'date': 'Fri, 18 Sep 2020 00:35:51 GMT',\n",
       "   'server': 'AmazonEC2'},\n",
       "  'RetryAttempts': 0}}"
      ]
     },
     "execution_count": 92,
     "metadata": {},
     "output_type": "execute_result"
    }
   ],
   "source": [
    "vpc"
   ]
  },
  {
   "cell_type": "code",
   "execution_count": 139,
   "metadata": {},
   "outputs": [],
   "source": [
    "## get public ip address of the EC2 instance\n",
    "# r = ec2_client.describe_instances().get('Reservations')\n",
    "r = ec2_client.describe_instances(Filters=[{'Name': 'tag:Name',\n",
    "                                      'Values':[EC2_NAME]}])"
   ]
  },
  {
   "cell_type": "code",
   "execution_count": 150,
   "metadata": {},
   "outputs": [
    {
     "data": {
      "text/plain": [
       "'3.135.164.60'"
      ]
     },
     "execution_count": 150,
     "metadata": {},
     "output_type": "execute_result"
    }
   ],
   "source": [
    "r['Reservations'][0]['Instances'][0]['NetworkInterfaces'][0]['Association']['PublicIp']"
   ]
  },
  {
   "cell_type": "code",
   "execution_count": null,
   "metadata": {},
   "outputs": [],
   "source": []
  },
  {
   "cell_type": "code",
   "execution_count": 127,
   "metadata": {},
   "outputs": [],
   "source": [
    "sg = ec2_client.describe_security_groups(Filters=[{'Name': 'vpc-id',\n",
    "                                                    'Values': [vpc['Vpcs'][0]['VpcId']]}\n",
    "                                                 ])"
   ]
  },
  {
   "cell_type": "code",
   "execution_count": 128,
   "metadata": {},
   "outputs": [
    {
     "data": {
      "text/plain": [
       "[{'FromPort': 0,\n",
       "  'IpProtocol': 'tcp',\n",
       "  'IpRanges': [],\n",
       "  'Ipv6Ranges': [],\n",
       "  'PrefixListIds': [],\n",
       "  'ToPort': 65535,\n",
       "  'UserIdGroupPairs': [{'GroupId': 'sg-02df4eb3ef2f88991',\n",
       "    'UserId': '736387989270'},\n",
       "   {'GroupId': 'sg-0af093b2f9fbe98e3', 'UserId': '736387989270'}]},\n",
       " {'FromPort': 8443,\n",
       "  'IpProtocol': 'tcp',\n",
       "  'IpRanges': [{'CidrIp': '52.95.24.0/23'}],\n",
       "  'Ipv6Ranges': [],\n",
       "  'PrefixListIds': [],\n",
       "  'ToPort': 8443,\n",
       "  'UserIdGroupPairs': []},\n",
       " {'FromPort': 8998,\n",
       "  'IpProtocol': 'tcp',\n",
       "  'IpRanges': [{'CidrIp': '71.104.42.57/32'}],\n",
       "  'Ipv6Ranges': [],\n",
       "  'PrefixListIds': [],\n",
       "  'ToPort': 8998,\n",
       "  'UserIdGroupPairs': []},\n",
       " {'FromPort': 0,\n",
       "  'IpProtocol': 'udp',\n",
       "  'IpRanges': [],\n",
       "  'Ipv6Ranges': [],\n",
       "  'PrefixListIds': [],\n",
       "  'ToPort': 65535,\n",
       "  'UserIdGroupPairs': [{'GroupId': 'sg-02df4eb3ef2f88991',\n",
       "    'UserId': '736387989270'},\n",
       "   {'GroupId': 'sg-0af093b2f9fbe98e3', 'UserId': '736387989270'}]},\n",
       " {'FromPort': -1,\n",
       "  'IpProtocol': 'icmp',\n",
       "  'IpRanges': [],\n",
       "  'Ipv6Ranges': [],\n",
       "  'PrefixListIds': [],\n",
       "  'ToPort': -1,\n",
       "  'UserIdGroupPairs': [{'GroupId': 'sg-02df4eb3ef2f88991',\n",
       "    'UserId': '736387989270'},\n",
       "   {'GroupId': 'sg-0af093b2f9fbe98e3', 'UserId': '736387989270'}]}]"
      ]
     },
     "execution_count": 128,
     "metadata": {},
     "output_type": "execute_result"
    }
   ],
   "source": [
    "sg['SecurityGroups'][0]['IpPermissions']"
   ]
  },
  {
   "cell_type": "code",
   "execution_count": 129,
   "metadata": {},
   "outputs": [],
   "source": [
    "for sg_ in sg['SecurityGroups']:\n",
    "    if sg_['GroupName'] == 'default':\n",
    "        default_sg = sg_\n",
    "    if sg_['GroupName'] == 'ElasticMapReduce-master':\n",
    "        emr_sg = sg_"
   ]
  },
  {
   "cell_type": "code",
   "execution_count": 130,
   "metadata": {},
   "outputs": [
    {
     "data": {
      "text/plain": [
       "('sg-059da5c466fb08b7e', 'sg-02df4eb3ef2f88991')"
      ]
     },
     "execution_count": 130,
     "metadata": {},
     "output_type": "execute_result"
    }
   ],
   "source": [
    "default_sg['GroupId'], emr_sg['GroupId']"
   ]
  },
  {
   "cell_type": "code",
   "execution_count": 131,
   "metadata": {},
   "outputs": [
    {
     "data": {
      "text/plain": [
       "[{'FromPort': 0,\n",
       "  'IpProtocol': 'tcp',\n",
       "  'IpRanges': [],\n",
       "  'Ipv6Ranges': [],\n",
       "  'PrefixListIds': [],\n",
       "  'ToPort': 65535,\n",
       "  'UserIdGroupPairs': [{'GroupId': 'sg-02df4eb3ef2f88991',\n",
       "    'UserId': '736387989270'},\n",
       "   {'GroupId': 'sg-0af093b2f9fbe98e3', 'UserId': '736387989270'}]},\n",
       " {'FromPort': 8443,\n",
       "  'IpProtocol': 'tcp',\n",
       "  'IpRanges': [{'CidrIp': '52.95.24.0/23'}],\n",
       "  'Ipv6Ranges': [],\n",
       "  'PrefixListIds': [],\n",
       "  'ToPort': 8443,\n",
       "  'UserIdGroupPairs': []},\n",
       " {'FromPort': 8998,\n",
       "  'IpProtocol': 'tcp',\n",
       "  'IpRanges': [{'CidrIp': '71.104.42.57/32'}],\n",
       "  'Ipv6Ranges': [],\n",
       "  'PrefixListIds': [],\n",
       "  'ToPort': 8998,\n",
       "  'UserIdGroupPairs': []},\n",
       " {'FromPort': 0,\n",
       "  'IpProtocol': 'udp',\n",
       "  'IpRanges': [],\n",
       "  'Ipv6Ranges': [],\n",
       "  'PrefixListIds': [],\n",
       "  'ToPort': 65535,\n",
       "  'UserIdGroupPairs': [{'GroupId': 'sg-02df4eb3ef2f88991',\n",
       "    'UserId': '736387989270'},\n",
       "   {'GroupId': 'sg-0af093b2f9fbe98e3', 'UserId': '736387989270'}]},\n",
       " {'FromPort': -1,\n",
       "  'IpProtocol': 'icmp',\n",
       "  'IpRanges': [],\n",
       "  'Ipv6Ranges': [],\n",
       "  'PrefixListIds': [],\n",
       "  'ToPort': -1,\n",
       "  'UserIdGroupPairs': [{'GroupId': 'sg-02df4eb3ef2f88991',\n",
       "    'UserId': '736387989270'},\n",
       "   {'GroupId': 'sg-0af093b2f9fbe98e3', 'UserId': '736387989270'}]}]"
      ]
     },
     "execution_count": 131,
     "metadata": {},
     "output_type": "execute_result"
    }
   ],
   "source": [
    "emr_sg['IpPermissions']"
   ]
  },
  {
   "cell_type": "code",
   "execution_count": 132,
   "metadata": {},
   "outputs": [
    {
     "name": "stdout",
     "output_type": "stream",
     "text": [
      "0 65535 ['sg-02df4eb3ef2f88991', 'sg-0af093b2f9fbe98e3']\n",
      "8443 8443 []\n",
      "8998 8998 []\n",
      "0 65535 ['sg-02df4eb3ef2f88991', 'sg-0af093b2f9fbe98e3']\n",
      "-1 -1 ['sg-02df4eb3ef2f88991', 'sg-0af093b2f9fbe98e3']\n"
     ]
    }
   ],
   "source": [
    "for permission in emr_sg['IpPermissions']:\n",
    "    print(permission['FromPort'], permission['ToPort'], [x['GroupId'] for x in permission['UserIdGroupPairs']])"
   ]
  },
  {
   "cell_type": "code",
   "execution_count": 119,
   "metadata": {},
   "outputs": [],
   "source": [
    "already_have_access = False\n",
    "for permission_sg in emr_sg['IpPermissions']:\n",
    "    if permission_sg['FromPort'] == -1:\n",
    "#     if permission_sg['FromPort'] == 8998 and permission_sg['ToPort'] == 8998:\n",
    "        user_group_pairs = permission_sg['UserIdGroupPairs']\n",
    "        user_group_pairs = set([x['GroupId'] for x in user_group_pairs])\n",
    "        if emr_sg_id in user_group_pairs:\n",
    "            already_have_access = True\n",
    "            break"
   ]
  },
  {
   "cell_type": "code",
   "execution_count": 120,
   "metadata": {},
   "outputs": [
    {
     "data": {
      "text/plain": [
       "True"
      ]
     },
     "execution_count": 120,
     "metadata": {},
     "output_type": "execute_result"
    }
   ],
   "source": []
  },
  {
   "cell_type": "code",
   "execution_count": 103,
   "metadata": {},
   "outputs": [
    {
     "data": {
      "text/plain": [
       "{'sg-02df4eb3ef2f88991', 'sg-0af093b2f9fbe98e3'}"
      ]
     },
     "execution_count": 103,
     "metadata": {},
     "output_type": "execute_result"
    }
   ],
   "source": [
    "set(['sg-02df4eb3ef2f88991', 'sg-0af093b2f9fbe98e3'])"
   ]
  },
  {
   "cell_type": "code",
   "execution_count": 104,
   "metadata": {},
   "outputs": [
    {
     "data": {
      "text/plain": [
       "True"
      ]
     },
     "execution_count": 104,
     "metadata": {},
     "output_type": "execute_result"
    }
   ],
   "source": [
    "'sg-02df4eb3ef2f88991' in set(['sg-02df4eb3ef2f88991', 'sg-0af093b2f9fbe98e3'])"
   ]
  },
  {
   "cell_type": "code",
   "execution_count": 96,
   "metadata": {},
   "outputs": [
    {
     "name": "stdout",
     "output_type": "stream",
     "text": [
      "[{'GroupId': 'sg-02df4eb3ef2f88991', 'UserId': '736387989270'}, {'GroupId': 'sg-0af093b2f9fbe98e3', 'UserId': '736387989270'}]\n",
      "[]\n",
      "[]\n",
      "[{'GroupId': 'sg-02df4eb3ef2f88991', 'UserId': '736387989270'}, {'GroupId': 'sg-0af093b2f9fbe98e3', 'UserId': '736387989270'}]\n",
      "[{'GroupId': 'sg-02df4eb3ef2f88991', 'UserId': '736387989270'}, {'GroupId': 'sg-0af093b2f9fbe98e3', 'UserId': '736387989270'}]\n"
     ]
    }
   ],
   "source": [
    "for emr_permission in emr_sg['IpPermissions']:\n",
    "    print(emr_permission['UserIdGroupPairs'])"
   ]
  },
  {
   "cell_type": "code",
   "execution_count": 77,
   "metadata": {},
   "outputs": [],
   "source": [
    "default_sg_id = default_sg['GroupId']"
   ]
  },
  {
   "cell_type": "code",
   "execution_count": 78,
   "metadata": {},
   "outputs": [],
   "source": [
    "emr_sg_id = emr_sg['GroupId']"
   ]
  },
  {
   "cell_type": "code",
   "execution_count": 122,
   "metadata": {},
   "outputs": [
    {
     "data": {
      "text/plain": [
       "{'ResponseMetadata': {'RequestId': '7b38c68d-11a2-45ef-b7a4-f6f0a9d6b776',\n",
       "  'HTTPStatusCode': 200,\n",
       "  'HTTPHeaders': {'x-amzn-requestid': '7b38c68d-11a2-45ef-b7a4-f6f0a9d6b776',\n",
       "   'content-type': 'text/xml;charset=UTF-8',\n",
       "   'content-length': '259',\n",
       "   'date': 'Fri, 18 Sep 2020 02:05:57 GMT',\n",
       "   'server': 'AmazonEC2'},\n",
       "  'RetryAttempts': 0}}"
      ]
     },
     "execution_count": 122,
     "metadata": {},
     "output_type": "execute_result"
    }
   ],
   "source": [
    "ec2_client.authorize_security_group_ingress(GroupId = emr_sg_id,\n",
    "                                        IpPermissions=[\n",
    "                                        {\n",
    "                                            'FromPort': -1,\n",
    "                                            'IpProtocol': 'icmp',\n",
    "                                            'UserIdGroupPairs': [\n",
    "                                                {\n",
    "                                                    'GroupId': default_sg_id,\n",
    "                                                },\n",
    "                                            ],\n",
    "                                            'ToPort': -1,\n",
    "                                        }\n",
    "                                    ],)"
   ]
  },
  {
   "cell_type": "code",
   "execution_count": null,
   "metadata": {},
   "outputs": [],
   "source": []
  },
  {
   "cell_type": "code",
   "execution_count": 53,
   "metadata": {},
   "outputs": [
    {
     "data": {
      "text/plain": [
       "{'BlockPublicAccessConfiguration': {'BlockPublicSecurityGroupRules': True,\n",
       "  'PermittedPublicSecurityGroupRuleRanges': [{'MinRange': 22,\n",
       "    'MaxRange': 22}]},\n",
       " 'BlockPublicAccessConfigurationMetadata': {'CreationDateTime': datetime.datetime(1969, 12, 31, 19, 0, 0, 1000, tzinfo=tzlocal()),\n",
       "  'CreatedByArn': ''},\n",
       " 'ResponseMetadata': {'RequestId': '305858ab-498c-4efe-b7a6-618bd788d43d',\n",
       "  'HTTPStatusCode': 200,\n",
       "  'HTTPHeaders': {'x-amzn-requestid': '305858ab-498c-4efe-b7a6-618bd788d43d',\n",
       "   'content-type': 'application/x-amz-json-1.1',\n",
       "   'content-length': '232',\n",
       "   'date': 'Thu, 17 Sep 2020 02:59:48 GMT'},\n",
       "  'RetryAttempts': 0}}"
      ]
     },
     "execution_count": 53,
     "metadata": {},
     "output_type": "execute_result"
    }
   ],
   "source": [
    "## open port 8998 to EC2 instance\n",
    "emr_client.get_block_public_access_configuration()"
   ]
  },
  {
   "cell_type": "code",
   "execution_count": null,
   "metadata": {},
   "outputs": [],
   "source": [
    "## terminate job flow\n",
    "clusters_reponse = emr_client.list_clusters(\n",
    "    ClusterStates=['RUNNING', 'WAITING']\n",
    ")\n",
    "\n",
    "for cluster in clusters_reponse['Clusters']:\n",
    "    if cluster['Name'] == EMR_NAME:\n",
    "        cluster_id = cluster['Id']\n",
    "        break\n",
    "\n",
    "emr_client.terminate_job_flows(JobFlowIds=[cluster_id])\n",
    "waiter = emr_client.get_waiter(\"cluster_terminated\")\n",
    "waiter.wait(\n",
    "    ClusterId=cluster_id,\n",
    ")"
   ]
  },
  {
   "cell_type": "code",
   "execution_count": 13,
   "metadata": {},
   "outputs": [
    {
     "data": {
      "text/plain": [
       "'j-20JF4Q6YEJGUZ'"
      ]
     },
     "execution_count": 13,
     "metadata": {},
     "output_type": "execute_result"
    }
   ],
   "source": [
    "cluster_id"
   ]
  },
  {
   "cell_type": "code",
   "execution_count": null,
   "metadata": {},
   "outputs": [],
   "source": []
  }
 ],
 "metadata": {
  "kernelspec": {
   "display_name": "Python 3",
   "language": "python",
   "name": "python3"
  },
  "language_info": {
   "codemirror_mode": {
    "name": "ipython",
    "version": 3
   },
   "file_extension": ".py",
   "mimetype": "text/x-python",
   "name": "python",
   "nbconvert_exporter": "python",
   "pygments_lexer": "ipython3",
   "version": "3.7.6"
  }
 },
 "nbformat": 4,
 "nbformat_minor": 4
}
