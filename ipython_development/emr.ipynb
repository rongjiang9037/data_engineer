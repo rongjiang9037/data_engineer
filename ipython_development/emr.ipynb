{
 "cells": [
  {
   "cell_type": "code",
   "execution_count": 74,
   "metadata": {},
   "outputs": [],
   "source": [
    "import configparser\n",
    "\n",
    "import boto3"
   ]
  },
  {
   "cell_type": "code",
   "execution_count": 75,
   "metadata": {},
   "outputs": [],
   "source": [
    "config_aws = configparser.ConfigParser()\n",
    "config_aws.read_file(open('../aws_credentials.cfg'))\n",
    "\n",
    "KEY                    = config_aws.get('AWS','KEY')\n",
    "SECRET                 = config_aws.get('AWS','SECRET')\n",
    "# IAM_NAME               = config_aws.get('AWS', 'IAM_NAME')\n",
    "# IAM_ARN                = config_aws.get('AWS', 'IAM_ARN')"
   ]
  },
  {
   "cell_type": "code",
   "execution_count": 76,
   "metadata": {},
   "outputs": [],
   "source": [
    "config_setup = configparser.ConfigParser()\n",
    "config_setup.read_file(open('../aws_setup.cfg'))\n",
    "\n",
    "PVR_SUBNET_NAME        = config_setup.get('VPC', 'PVR_SUBNET_NAME')\n",
    "PVR_SUBNET_REGION      = config_setup.get('VPC', 'PVR_SUBNET_REGION')\n",
    "PUB_SUBNET_NAME        = config_setup.get('VPC', 'PUB_SUBNET_NAME')\n",
    "PUB_SUBNET_REGION      = config_setup.get('VPC', 'PUB_SUBNET_REGION')\n",
    "\n",
    "EMR_NAME               = config_setup.get('EMR', 'NAME')\n",
    "EMR_TYPE               = config_setup.get('EMR', 'TYPE')\n",
    "EMR_REGION             = config_setup.get('EMR', 'REGION')\n",
    "EMR_MASTER_NAME        = config_setup.get('EMR', 'MASTER_NAME')\n",
    "EMR_WORKER_NAME        = config_setup.get('EMR', 'WORKER_NAME')\n",
    "MASTER_COUNT           = config_setup.get('EMR', 'MASTER_COUNT')\n",
    "WORKER_COUNT           = config_setup.get('EMR', 'WORKER_COUNT')\n",
    "\n",
    "S3_REGION              = config_setup.get('S3', 'REGION')\n",
    "S3_BUCKET              = config_setup.get('S3', 'NAME')"
   ]
  },
  {
   "cell_type": "code",
   "execution_count": 77,
   "metadata": {},
   "outputs": [],
   "source": [
    "ec2_client = boto3.client('ec2',\n",
    "                     aws_access_key_id=KEY,\n",
    "                     aws_secret_access_key= SECRET)"
   ]
  },
  {
   "cell_type": "code",
   "execution_count": 78,
   "metadata": {},
   "outputs": [],
   "source": [
    "pub_subnet = ec2_client.describe_subnets(Filters=[{'Name': 'tag:Name',\n",
    "                                      'Values':[PUB_SUBNET_NAME]}])"
   ]
  },
  {
   "cell_type": "code",
   "execution_count": 73,
   "metadata": {},
   "outputs": [
    {
     "data": {
      "text/plain": [
       "'subnet-07b1a633f0ba1b369'"
      ]
     },
     "execution_count": 73,
     "metadata": {},
     "output_type": "execute_result"
    }
   ],
   "source": [
    "pub_subnet['Subnets'][0]['SubnetId']"
   ]
  },
  {
   "cell_type": "code",
   "execution_count": 7,
   "metadata": {},
   "outputs": [],
   "source": [
    "emr_client = boto3.client('emr',\n",
    "                         region_name=EMR_REGION,\n",
    "                         aws_access_key_id=KEY,\n",
    "                         aws_secret_access_key= SECRET)"
   ]
  },
  {
   "cell_type": "code",
   "execution_count": 80,
   "metadata": {},
   "outputs": [],
   "source": [
    "cluster_id = emr_client.run_job_flow(\n",
    "    Name=EMR_NAME,\n",
    "    LogUri=f\"s3://{S3_BUCKET}/logs/\",\n",
    "    Instances={\n",
    "#         'MasterInstanceType': EMR_TYPE,\n",
    "#         'SlaveInstanceType': EMR_TYPE,\n",
    "        'InstanceGroups':[{\n",
    "            'Name': EMR_MASTER_NAME,\n",
    "            'Market':'ON_DEMAND',\n",
    "            'InstanceRole':'MASTER',\n",
    "            'InstanceType':EMR_TYPE,\n",
    "            'InstanceCount':int(MASTER_COUNT),\n",
    "        },\n",
    "        {   'Name': EMR_WORKER_NAME,\n",
    "            'Market':'ON_DEMAND',\n",
    "            'InstanceRole':'CORE',\n",
    "            'InstanceType':EMR_TYPE,\n",
    "            'InstanceCount':int(WORKER_COUNT),\n",
    "        }],\n",
    "        'Ec2SubnetId':pub_subnet['Subnets'][0]['SubnetId'],\n",
    "        'KeepJobFlowAliveWhenNoSteps':True\n",
    "    },\n",
    "    Applications=[\n",
    "        {   'Name':'Spark'},\n",
    "        {   'Name':'Hadoop'},\n",
    "        {   'Name': 'livy' },\n",
    "    ],\n",
    "    JobFlowRole='EMR_EC2_DefaultRole',\n",
    "    ServiceRole='EMR_DefaultRole',\n",
    "    ReleaseLabel='emr-5.28.0',\n",
    ")\n",
    "waiter = emr_client.get_waiter(\"cluster_running\")\n",
    "waiter.wait(\n",
    "    ClusterId=cluster_id['JobFlowId'],\n",
    ")"
   ]
  },
  {
   "cell_type": "code",
   "execution_count": 81,
   "metadata": {},
   "outputs": [
    {
     "data": {
      "text/plain": [
       "{'JobFlowId': 'j-3D1N5LMLK6KR8',\n",
       " 'ClusterArn': 'arn:aws:elasticmapreduce:us-east-2:736387989270:cluster/j-3D1N5LMLK6KR8',\n",
       " 'ResponseMetadata': {'RequestId': '0e1c6572-3104-4a80-86e8-ce7a27d383a9',\n",
       "  'HTTPStatusCode': 200,\n",
       "  'HTTPHeaders': {'x-amzn-requestid': '0e1c6572-3104-4a80-86e8-ce7a27d383a9',\n",
       "   'content-type': 'application/x-amz-json-1.1',\n",
       "   'content-length': '118',\n",
       "   'date': 'Sun, 13 Sep 2020 02:11:14 GMT'},\n",
       "  'RetryAttempts': 0}}"
      ]
     },
     "execution_count": 81,
     "metadata": {},
     "output_type": "execute_result"
    }
   ],
   "source": [
    "cluster_id"
   ]
  },
  {
   "cell_type": "code",
   "execution_count": 88,
   "metadata": {},
   "outputs": [],
   "source": [
    "## terminate job flow\n",
    "clusters_reponse = emr_client.list_clusters(\n",
    "    ClusterStates=['RUNNING', 'WAITING']\n",
    ")\n",
    "\n",
    "for cluster in clusters_reponse['Clusters']:\n",
    "    if cluster['Name'] == EMR_NAME:\n",
    "        cluster_id = cluster['Id']\n",
    "        break\n",
    "\n",
    "emr_client.terminate_job_flows(JobFlowIds=[cluster_id])\n",
    "waiter = emr_client.get_waiter(\"cluster_terminated\")\n",
    "waiter.wait(\n",
    "    ClusterId=cluster_id,\n",
    ")"
   ]
  },
  {
   "cell_type": "code",
   "execution_count": null,
   "metadata": {},
   "outputs": [],
   "source": []
  }
 ],
 "metadata": {
  "kernelspec": {
   "display_name": "Python 3",
   "language": "python",
   "name": "python3"
  },
  "language_info": {
   "codemirror_mode": {
    "name": "ipython",
    "version": 3
   },
   "file_extension": ".py",
   "mimetype": "text/x-python",
   "name": "python",
   "nbconvert_exporter": "python",
   "pygments_lexer": "ipython3",
   "version": "3.7.6"
  }
 },
 "nbformat": 4,
 "nbformat_minor": 4
}
