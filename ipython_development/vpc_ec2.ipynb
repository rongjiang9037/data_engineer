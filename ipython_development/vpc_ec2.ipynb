{
 "cells": [
  {
   "cell_type": "code",
   "execution_count": 41,
   "metadata": {},
   "outputs": [],
   "source": [
    "import os\n",
    "\n",
    "import boto3\n",
    "import botocore\n",
    "import configparser\n",
    "import paramiko\n",
    "\n",
    "from botocore.exceptions import ClientError"
   ]
  },
  {
   "cell_type": "code",
   "execution_count": 42,
   "metadata": {},
   "outputs": [],
   "source": [
    "config_aws = configparser.ConfigParser()\n",
    "config_aws.read_file(open('../aws_credentials.cfg'))\n",
    "\n",
    "KEY                    = config_aws.get('AWS','KEY')\n",
    "SECRET                 = config_aws.get('AWS','SECRET')\n",
    "IAM_ARN                    = config_aws.get('AWS', 'IAM_ARN')"
   ]
  },
  {
   "cell_type": "code",
   "execution_count": 43,
   "metadata": {},
   "outputs": [],
   "source": [
    "config_instance = configparser.ConfigParser()\n",
    "config_instance.read_file(open('../aws_setup.cfg'))\n",
    "\n",
    "AMI_ID                 = config_instance.get('AWS', 'AMI_ID')\n",
    "KEY_PAIR_NAME          = config_instance.get('AWS', 'KEY_PAIR_NAME') \n",
    "EC2_REGION             = config_instance.get('EC2', 'REGION')\n",
    "EC2_TYPE               = config_instance.get('EC2', 'INSTANCE_TYPE')\n",
    "EC2_NAME               = config_instance.get('EC2', 'NAME')\n",
    "VPC_NAME               = config_instance.get('VPC', 'NAME')\n",
    "VPC_CIDR_BLOCK         = config_instance.get('VPC', 'CIDR_BLOCK')\n",
    "PUB_SUBNET_NAME        = config_instance.get('VPC', 'PUB_SUBNET_NAME')\n",
    "PUB_SUBNET_CIDR_BLOCK  = config_instance.get('VPC', 'PUB_SUBNET_CIDR_BLOCK')\n",
    "PUB_SUBNET_REGION      = config_instance.get('VPC', 'PUB_SUBNET_REGION')\n",
    "PVR_SUBNET_NAME        = config_instance.get('VPC', 'PVR_SUBNET_NAME')\n",
    "PVR_SUBNET_CIDR_BLOCK  = config_instance.get('VPC', 'PVR_SUBNET_CIDR_BLOCK')\n",
    "PVR_SUBNET_REGION      = config_instance.get('VPC', 'PVR_SUBNET_REGION')\n",
    "RT_NAME                = config_instance.get('ROUTE_TABLE', 'NAME')\n",
    "IG_NAME                = config_instance.get('IG', 'NAME')\n"
   ]
  },
  {
   "cell_type": "code",
   "execution_count": 7,
   "metadata": {},
   "outputs": [],
   "source": [
    "def get_keypair(ec2):\n",
    "    # call the boto ec2 function to create a key pair\n",
    "    key_pair = ec2.create_key_pair(KeyName=KEY_PAIR_NAME)\n",
    "    print(\"Created a new key pair in AWS.\")\n",
    "\n",
    "    # capture the key and store it in a file\n",
    "    KeyPairOut = str(key_pair.key_material)\n",
    "\n",
    "    # create a file to store the key locally\n",
    "    print(\"Saving the keypair.\")\n",
    "    key_pair_path = KEY_PAIR_NAME + '.pem'\n",
    "    with open(key_pair_path, 'w') as f:\n",
    "        f.write(KeyPairOut)\n",
    "    os.chmod(key_pair_path, 0o600)\n",
    "    print(\"Changed access permission to read-only.\")"
   ]
  },
  {
   "cell_type": "code",
   "execution_count": 8,
   "metadata": {},
   "outputs": [],
   "source": [
    "def create_vpc(ec2):\n",
    "    # create a new VPC\n",
    "    print(\"Creating VPC...\")\n",
    "    vpc = ec2.create_vpc(CidrBlock=VPC_CIDR_BLOCK,\n",
    "                         TagSpecifications=[{'ResourceType': 'vpc',\n",
    "                                             'Tags':[{\"Key\": \"Name\", \n",
    "                                                      \"Value\": VPC_NAME},\n",
    "                                                    ]\n",
    "                                            }])\n",
    "    \n",
    "    # wait till available and return VPC ID\n",
    "    vpc.wait_until_available()\n",
    "    print(f\"VPC {VPC_NAME} is available!\")\n",
    "    return vpc"
   ]
  },
  {
   "cell_type": "code",
   "execution_count": 9,
   "metadata": {},
   "outputs": [],
   "source": [
    "def create_subnet(ec2, vpc, \n",
    "                  subnet_name,\n",
    "                  subnet_region, \n",
    "                  subnet_cidr_block,\n",
    "                  subnet_type='private'):\n",
    "    # create a public subnet within the VPC\n",
    "    print(\"Creating a \"+subnet_type+\" subnet...\")\n",
    "    subnet = ec2.create_subnet(\n",
    "        AvailabilityZone=subnet_region,\n",
    "    #     AvailabilityZoneId='use2-az2',\n",
    "        CidrBlock=subnet_cidr_block,\n",
    "        VpcId=vpc.vpc_id,\n",
    "        DryRun=False,\n",
    "        TagSpecifications=[{\n",
    "            'ResourceType':'subnet',\n",
    "            'Tags':[{\"Key\": \"Name\", \"Value\": subnet_name},\n",
    "                   ]\n",
    "        }])\n",
    "    print(f\"Subnet {subnet_name} is available!\")\n",
    "    return subnet"
   ]
  },
  {
   "cell_type": "code",
   "execution_count": 10,
   "metadata": {},
   "outputs": [],
   "source": [
    "def stop_instance(ec2_client, instances):\n",
    "    # get a list of instance ids\n",
    "    instances_ids = [i.instance_id for i in instances]\n",
    "    # start the instances\n",
    "    ec2_client.stop_instances(InstanceIds=instances_ids)\n",
    "    \n",
    "    # wait till instance is stopped\n",
    "    waiter = ec2_client.get_waiter('instance_stopped')\n",
    "    waiter.wait(InstanceIds=instances_ids)\n",
    "    print(\"EC2 instance has stopped!\")"
   ]
  },
  {
   "cell_type": "code",
   "execution_count": 38,
   "metadata": {},
   "outputs": [],
   "source": [
    "def start_instance(ec2_client, instances):\n",
    "    # get a list of instance ids\n",
    "    instances_ids = [i.instance_id for i in instances]\n",
    "    # start the instances\n",
    "    ec2_client.start_instances(InstanceIds=instances_ids)\n",
    "    \n",
    "    # wait till instance is ready\n",
    "    waiter = ec2_client.get_waiter('instance_running')\n",
    "    waiter.wait(InstanceIds=instances_ids)\n",
    "    print(\"EC2 instance is ready!\")"
   ]
  },
  {
   "cell_type": "code",
   "execution_count": 12,
   "metadata": {},
   "outputs": [],
   "source": [
    "## create a ec2 resource instance\n",
    "ec2 = boto3.resource('ec2', \n",
    "                    region_name = EC2_REGION,\n",
    "                    aws_access_key_id = KEY,\n",
    "                    aws_secret_access_key = SECRET)"
   ]
  },
  {
   "cell_type": "code",
   "execution_count": 13,
   "metadata": {},
   "outputs": [],
   "source": [
    "## create a ec2 client instnace\n",
    "ec2_client = boto3.client('ec2')"
   ]
  },
  {
   "cell_type": "code",
   "execution_count": 15,
   "metadata": {},
   "outputs": [
    {
     "name": "stdout",
     "output_type": "stream",
     "text": [
      "Created a new key pair in AWS.\n",
      "Saving the keypair.\n",
      "Changed access permission to read-only.\n"
     ]
    }
   ],
   "source": [
    "## create a key pair and download them \n",
    "get_keypair(ec2)"
   ]
  },
  {
   "cell_type": "code",
   "execution_count": 16,
   "metadata": {},
   "outputs": [
    {
     "name": "stdout",
     "output_type": "stream",
     "text": [
      "Creating VPC...\n",
      "VPC IMMIGRATE_DEMOGRAPHICS_VPC is available!\n"
     ]
    }
   ],
   "source": [
    "## create a VPC instance\n",
    "vpc = create_vpc(ec2)"
   ]
  },
  {
   "cell_type": "code",
   "execution_count": 17,
   "metadata": {},
   "outputs": [
    {
     "name": "stdout",
     "output_type": "stream",
     "text": [
      "Creating a public subnet...\n",
      "Subnet IMMIGRATE_DEMOGRAPHICS_PUB is available!\n",
      "Creating a private subnet...\n",
      "Subnet IMMIGRATE_DEMOGRAPHICS_PVR is available!\n"
     ]
    }
   ],
   "source": [
    "# create a public subnet\n",
    "subnet_pub = create_subnet(ec2=ec2, vpc=vpc, subnet_name=PUB_SUBNET_NAME,\n",
    "                        subnet_region=PUB_SUBNET_REGION, \n",
    "                        subnet_cidr_block=PUB_SUBNET_CIDR_BLOCK,\n",
    "                        subnet_type='public')\n",
    "# create a private subnet\n",
    "subnet_prv = create_subnet(ec2=ec2, vpc=vpc, subnet_name=PVR_SUBNET_NAME,\n",
    "                        subnet_region=PVR_SUBNET_REGION, \n",
    "                        subnet_cidr_block=PVR_SUBNET_CIDR_BLOCK,\n",
    "                        subnet_type='private')"
   ]
  },
  {
   "cell_type": "code",
   "execution_count": 40,
   "metadata": {},
   "outputs": [],
   "source": [
    "## create internet gateway\n",
    "ig = ec2.create_internet_gateway(TagSpecifications=[{\n",
    "            'ResourceType':'internet-gateway',\n",
    "            'Tags':[{\"Key\": \"Name\", \"Value\": IG_NAME},\n",
    "                   ]}])\n",
    "## attach the internet gateway to the VPC\n",
    "vpc.attach_internet_gateway(InternetGatewayId = ig.id)"
   ]
  },
  {
   "cell_type": "code",
   "execution_count": null,
   "metadata": {},
   "outputs": [],
   "source": [
    "###### the next 2 steps is to allow SSH connection from outside of VPC to the EC instance"
   ]
  },
  {
   "cell_type": "code",
   "execution_count": 20,
   "metadata": {},
   "outputs": [
    {
     "data": {
      "text/plain": [
       "ec2.RouteTableAssociation(id='rtbassoc-08e9b2a5e7a25762d')"
      ]
     },
     "execution_count": 20,
     "metadata": {},
     "output_type": "execute_result"
    }
   ],
   "source": [
    "## 1.1 create a new route table for public subnet and\n",
    "routetable = vpc.create_route_table(\n",
    "    TagSpecifications=[\n",
    "        {\n",
    "            'ResourceType': 'route-table',\n",
    "            'Tags': [\n",
    "                {\n",
    "                    'Key': 'Name',\n",
    "                    'Value': RT_NAME\n",
    "                },\n",
    "            ]\n",
    "        },\n",
    "    ]\n",
    ")\n",
    "## 1.2 create new route, that allows traffic outside of VPC to go to the internet gateway\n",
    "route = routetable.create_route(DestinationCidrBlock='0.0.0.0/0', GatewayId=ig.id)\n",
    "## 1.3 attach the new route to the public subnet\n",
    "routetable.associate_with_subnet(SubnetId=subnet_pub.id)"
   ]
  },
  {
   "cell_type": "code",
   "execution_count": 21,
   "metadata": {},
   "outputs": [
    {
     "data": {
      "text/plain": [
       "{'ResponseMetadata': {'RequestId': '07efd4b2-ba3f-4a68-850b-44b4218d6390',\n",
       "  'HTTPStatusCode': 200,\n",
       "  'HTTPHeaders': {'x-amzn-requestid': '07efd4b2-ba3f-4a68-850b-44b4218d6390',\n",
       "   'content-type': 'text/xml;charset=UTF-8',\n",
       "   'content-length': '259',\n",
       "   'date': 'Wed, 09 Sep 2020 01:36:42 GMT',\n",
       "   'server': 'AmazonEC2'},\n",
       "  'RetryAttempts': 0}}"
      ]
     },
     "execution_count": 21,
     "metadata": {},
     "output_type": "execute_result"
    }
   ],
   "source": [
    "## 2.1 get default security group id\n",
    "sg = ec2_client.describe_security_groups(Filters=[{'Name': 'vpc-id',\n",
    "                                                    'Values': [vpc.vpc_id]}\n",
    "                                                 ])\n",
    "sg_id = sg['SecurityGroups'][0]['GroupId']\n",
    "## 2.2 add imbound rule for the security group, allowing SSH connect from all the internet\n",
    "ec2_client.authorize_security_group_ingress(GroupId = sg_id,\n",
    "                                        IpPermissions=[\n",
    "                                        {\n",
    "                                            'FromPort': 22,\n",
    "                                            'IpProtocol': 'tcp',\n",
    "                                            'IpRanges': [\n",
    "                                                {\n",
    "                                                    'CidrIp': '0.0.0.0/0',\n",
    "                                                    'Description': 'SSH access from outside',\n",
    "                                                },\n",
    "                                            ],\n",
    "                                            'ToPort': 22,\n",
    "                                        },\n",
    "                                        {\n",
    "                                            'FromPort': 8080,\n",
    "                                            'IpProtocol': 'tcp',\n",
    "                                            'IpRanges': [\n",
    "                                                {\n",
    "                                                    'CidrIp': '0.0.0.0/0',\n",
    "                                                    'Description': 'Apache Airflow',\n",
    "                                                },\n",
    "                                            ],\n",
    "                                            'ToPort': 8080,\n",
    "                                        }\n",
    "                                    ],)"
   ]
  },
  {
   "cell_type": "code",
   "execution_count": 45,
   "metadata": {},
   "outputs": [],
   "source": [
    "## create EC2 instance\n",
    "instances = ec2.create_instances(\n",
    "     ImageId=AMI_ID,\n",
    "     MinCount=1,\n",
    "     MaxCount=1,\n",
    "     InstanceType=EC2_TYPE,\n",
    "     KeyName=KEY_PAIR_NAME,\n",
    "     NetworkInterfaces=[{\n",
    "             'DeviceIndex':0,\n",
    "             'SubnetId': subnet_pub.subnet_id}],\n",
    "#               'SubnetId': 'subnet-0ee2d46148e05870f'}],\n",
    "     TagSpecifications=[{\n",
    "            'ResourceType':'instance',\n",
    "            'Tags':[{\"Key\": \"Name\", \"Value\": EC2_NAME}]\n",
    "            }]\n",
    " )\n",
    "\n",
    "# get instance ids\n",
    "instances_ids = [i.instance_id for i in instances]\n",
    "\n",
    "# wait till instance is ready\n",
    "waiter = ec2_client.get_waiter('instance_running')\n",
    "waiter.wait(InstanceIds=instances_ids)\n"
   ]
  },
  {
   "cell_type": "code",
   "execution_count": 31,
   "metadata": {},
   "outputs": [
    {
     "name": "stdout",
     "output_type": "stream",
     "text": [
      "{'AssociationId': 'eipassoc-0d45ef4df513ac17f', 'ResponseMetadata': {'RequestId': '0aa0e490-dc46-41eb-896b-cfdcf35a7ac7', 'HTTPStatusCode': 200, 'HTTPHeaders': {'x-amzn-requestid': '0aa0e490-dc46-41eb-896b-cfdcf35a7ac7', 'content-type': 'text/xml;charset=UTF-8', 'content-length': '295', 'date': 'Wed, 09 Sep 2020 01:46:32 GMT', 'server': 'AmazonEC2'}, 'RetryAttempts': 0}}\n",
      "The EIP is: 3.12.62.71\n"
     ]
    }
   ],
   "source": [
    "## create new EIP and attach it to existing EC2 instance\n",
    "instance_id = instances[0].instance_id\n",
    "try:\n",
    "    allocation = ec2_client.allocate_address(Domain='vpc')\n",
    "    response = ec2_client.associate_address(AllocationId=allocation['AllocationId'],\n",
    "                                     InstanceId=instance_id)\n",
    "    print(response)\n",
    "except ClientError as e:\n",
    "    print(e)\n",
    "print(f\"\\nThe EIP is: {allocation['PublicIp']}\")"
   ]
  },
  {
   "cell_type": "code",
   "execution_count": null,
   "metadata": {},
   "outputs": [],
   "source": []
  },
  {
   "cell_type": "code",
   "execution_count": null,
   "metadata": {},
   "outputs": [],
   "source": []
  },
  {
   "cell_type": "code",
   "execution_count": 32,
   "metadata": {},
   "outputs": [],
   "source": []
  },
  {
   "cell_type": "code",
   "execution_count": 33,
   "metadata": {},
   "outputs": [],
   "source": []
  },
  {
   "cell_type": "code",
   "execution_count": 34,
   "metadata": {},
   "outputs": [],
   "source": []
  },
  {
   "cell_type": "code",
   "execution_count": null,
   "metadata": {},
   "outputs": [],
   "source": []
  },
  {
   "cell_type": "code",
   "execution_count": null,
   "metadata": {},
   "outputs": [],
   "source": []
  },
  {
   "cell_type": "code",
   "execution_count": 99,
   "metadata": {},
   "outputs": [],
   "source": []
  },
  {
   "cell_type": "code",
   "execution_count": null,
   "metadata": {},
   "outputs": [],
   "source": []
  },
  {
   "cell_type": "code",
   "execution_count": null,
   "metadata": {},
   "outputs": [],
   "source": []
  },
  {
   "cell_type": "code",
   "execution_count": null,
   "metadata": {},
   "outputs": [],
   "source": []
  },
  {
   "cell_type": "code",
   "execution_count": null,
   "metadata": {},
   "outputs": [],
   "source": []
  },
  {
   "cell_type": "code",
   "execution_count": null,
   "metadata": {},
   "outputs": [],
   "source": []
  },
  {
   "cell_type": "code",
   "execution_count": null,
   "metadata": {},
   "outputs": [],
   "source": []
  },
  {
   "cell_type": "code",
   "execution_count": null,
   "metadata": {},
   "outputs": [],
   "source": []
  },
  {
   "cell_type": "code",
   "execution_count": 38,
   "metadata": {
    "scrolled": true
   },
   "outputs": [],
   "source": []
  },
  {
   "cell_type": "code",
   "execution_count": null,
   "metadata": {},
   "outputs": [],
   "source": []
  },
  {
   "cell_type": "code",
   "execution_count": null,
   "metadata": {},
   "outputs": [],
   "source": []
  },
  {
   "cell_type": "code",
   "execution_count": null,
   "metadata": {},
   "outputs": [],
   "source": []
  },
  {
   "cell_type": "code",
   "execution_count": null,
   "metadata": {},
   "outputs": [],
   "source": []
  }
 ],
 "metadata": {
  "kernelspec": {
   "display_name": "Python 3",
   "language": "python",
   "name": "python3"
  },
  "language_info": {
   "codemirror_mode": {
    "name": "ipython",
    "version": 3
   },
   "file_extension": ".py",
   "mimetype": "text/x-python",
   "name": "python",
   "nbconvert_exporter": "python",
   "pygments_lexer": "ipython3",
   "version": "3.7.6"
  }
 },
 "nbformat": 4,
 "nbformat_minor": 4
}
