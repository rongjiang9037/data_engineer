{
 "cells": [
  {
   "cell_type": "code",
   "execution_count": 22,
   "metadata": {},
   "outputs": [],
   "source": [
    "import os\n",
    "\n",
    "import boto3\n",
    "import botocore\n",
    "import configparser\n",
    "\n",
    "from botocore.exceptions import ClientError"
   ]
  },
  {
   "cell_type": "code",
   "execution_count": 23,
   "metadata": {},
   "outputs": [],
   "source": [
    "config_aws = configparser.ConfigParser()\n",
    "config_aws.read_file(open('../config/aws_credentials.cfg'))\n",
    "\n",
    "KEY                    = config_aws.get('AWS','KEY')\n",
    "SECRET                 = config_aws.get('AWS','SECRET')\n",
    "IAM_ARN                = config_aws.get('AWS', 'IAM_ARN')"
   ]
  },
  {
   "cell_type": "code",
   "execution_count": 66,
   "metadata": {},
   "outputs": [],
   "source": [
    "config_instance = configparser.ConfigParser()\n",
    "config_instance.read_file(open('../config/aws_setup.cfg'))\n",
    "\n",
    "AMI_ID                 = config_instance.get(\"AWS\", \"AMI_ID\")\n",
    "KEY_PAIR_NAME          = config_instance.get(\"AWS\", \"KEY_PAIR_NAME\")\n",
    "## EC2 config\n",
    "EC2_REGION             = config_instance.get(\"EC2\", \"REGION\")\n",
    "EC2_TYPE               = config_instance.get(\"EC2\", \"INSTANCE_TYPE\")\n",
    "EC2_NAME               = config_instance.get(\"EC2\", \"NAME\")\n",
    "## VPC config\n",
    "VPC_NAME               = config_instance.get(\"VPC\", \"NAME\")\n",
    "VPC_CIDR_BLOCK         = config_instance.get(\"VPC\", \"CIDR_BLOCK\")\n",
    "## public subnet config\n",
    "PUB_SUBNET_NAME        = config_instance.get(\"SUBNET\", \"PUB_SUBNET_NAME\")\n",
    "PUB_SUBNET_CIDR_BLOCK  = config_instance.get(\"SUBNET\", \"PUB_SUBNET_CIDR_BLOCK\")\n",
    "PUB_SUBNET_REGION      = config_instance.get(\"SUBNET\", \"PUB_SUBNET_REGION\")\n",
    "PVR_SUBNET_NAME        = config_instance.get(\"SUBNET\", \"PVR_SUBNET_NAME\")\n",
    "## public subnet for EMR cluster config\n",
    "PUB_SPARK_SUBNET_NAME        = config_instance.get(\"SUBNET\", \"PUB_SPARK_SUBNET_NAME\")\n",
    "PUB_SPARK_SUBNET_CIDR_BLOCK  = config_instance.get(\"SUBNET\", \"PUB_SPARK_SUBNET_CIDR_BLOCK\")\n",
    "PUB_SPARK_SUBNET_REGION      = config_instance.get(\"SUBNET\", \"PUB_SPARK_SUBNET_REGION\")\n",
    "## private subnet (empty)\n",
    "PVR_SUBNET_NAME        = config_instance.get(\"SUBNET\", \"PVR_SUBNET_NAME\")\n",
    "PVR_SUBNET_CIDR_BLOCK  = config_instance.get(\"SUBNET\", \"PVR_SUBNET_CIDR_BLOCK\")\n",
    "PVR_SUBNET_REGION      = config_instance.get(\"SUBNET\", \"PVR_SUBNET_REGION\")\n",
    "## private subnet for RDS\n",
    "PVR_RDS_SUBNET_NAME        = config_instance.get(\"SUBNET\", \"PVR_RDS_SUBNET_NAME\")\n",
    "PVR_RDS_SUBNET_CIDR_BLOCK  = config_instance.get(\"SUBNET\", \"PVR_RDS_SUBNET_CIDR_BLOCK\")\n",
    "PVR_RDS_SUBNET_REGION      = config_instance.get(\"SUBNET\", \"PVR_RDS_SUBNET_REGION\")\n",
    "## route table config\n",
    "RT_NAME                = config_instance.get(\"ROUTE_TABLE\", \"NAME\")\n",
    "## internet gateway config\n",
    "IG_NAME                = config_instance.get(\"IG\", \"NAME\")\n",
    "## security group\n",
    "RDS_SG_NAME            = config_instance.get(\"SG\", 'RDS_SG_NAM')\n",
    "RDS_NAME               = config_instance.get(\"RDS\", \"NAME\")\n",
    "RDS_IDENTIFIER         = config_instance.get(\"RDS\", \"RDS_IDENTIFIER\")\n"
   ]
  },
  {
   "cell_type": "code",
   "execution_count": 25,
   "metadata": {},
   "outputs": [],
   "source": [
    "def get_keypair(ec2):\n",
    "    # call the boto ec2 function to create a key pair\n",
    "    key_pair = ec2.create_key_pair(KeyName=KEY_PAIR_NAME)\n",
    "    print(\"Created a new key pair in AWS.\")\n",
    "\n",
    "    # capture the key and store it in a file\n",
    "    KeyPairOut = str(key_pair.key_material)\n",
    "\n",
    "    # create a file to store the key locally\n",
    "    print(\"Saving the keypair.\")\n",
    "    key_pair_path = KEY_PAIR_NAME + '.pem'\n",
    "    with open(key_pair_path, 'w') as f:\n",
    "        f.write(KeyPairOut)\n",
    "    os.chmod(key_pair_path, 0o600)\n",
    "    print(\"Changed access permission to read-only.\")"
   ]
  },
  {
   "cell_type": "code",
   "execution_count": 26,
   "metadata": {},
   "outputs": [],
   "source": [
    "def create_vpc(ec2):\n",
    "    # create a new VPC\n",
    "    print(\"Creating VPC...\")\n",
    "    vpc = ec2.create_vpc(CidrBlock=VPC_CIDR_BLOCK,\n",
    "                         TagSpecifications=[{'ResourceType': 'vpc',\n",
    "                                             'Tags':[{\"Key\": \"Name\", \n",
    "                                                      \"Value\": VPC_NAME},\n",
    "                                                    ]\n",
    "                                            }])\n",
    "    \n",
    "    # wait till available and return VPC ID\n",
    "    vpc.wait_until_available()\n",
    "    print(f\"VPC {VPC_NAME} is available!\")\n",
    "    return vpc"
   ]
  },
  {
   "cell_type": "code",
   "execution_count": 27,
   "metadata": {},
   "outputs": [],
   "source": [
    "def create_subnet(ec2, vpc, \n",
    "                  subnet_name,\n",
    "                  subnet_region, \n",
    "                  subnet_cidr_block,\n",
    "                  subnet_type='private'):\n",
    "    # create a public subnet within the VPC\n",
    "    print(\"Creating a \"+subnet_type+\" subnet...\")\n",
    "    subnet = ec2.create_subnet(\n",
    "        AvailabilityZone=subnet_region,\n",
    "    #     AvailabilityZoneId='use2-az2',\n",
    "        CidrBlock=subnet_cidr_block,\n",
    "        VpcId=vpc.vpc_id,\n",
    "        DryRun=False,\n",
    "        TagSpecifications=[{\n",
    "            'ResourceType':'subnet',\n",
    "            'Tags':[{\"Key\": \"Name\", \"Value\": subnet_name},\n",
    "                   ]\n",
    "        }])\n",
    "    print(f\"Subnet {subnet_name} is available!\")\n",
    "    return subnet"
   ]
  },
  {
   "cell_type": "code",
   "execution_count": 28,
   "metadata": {},
   "outputs": [],
   "source": [
    "def stop_instance(ec2_client, instances):\n",
    "    # get a list of instance ids\n",
    "    instances_ids = [i.instance_id for i in instances]\n",
    "    # start the instances\n",
    "    ec2_client.stop_instances(InstanceIds=instances_ids)\n",
    "    \n",
    "    # wait till instance is stopped\n",
    "    waiter = ec2_client.get_waiter('instance_stopped')\n",
    "    waiter.wait(InstanceIds=instances_ids)\n",
    "    print(\"EC2 instance has stopped!\")"
   ]
  },
  {
   "cell_type": "code",
   "execution_count": 29,
   "metadata": {},
   "outputs": [],
   "source": [
    "def start_instance(ec2_client, instances):\n",
    "    # get a list of instance ids\n",
    "    instances_ids = [i.instance_id for i in instances]\n",
    "    # start the instances\n",
    "    ec2_client.start_instances(InstanceIds=instances_ids)\n",
    "    \n",
    "    # wait till instance is ready\n",
    "    waiter = ec2_client.get_waiter('instance_running')\n",
    "    waiter.wait(InstanceIds=instances_ids)\n",
    "    print(\"EC2 instance is ready!\")"
   ]
  },
  {
   "cell_type": "code",
   "execution_count": 30,
   "metadata": {},
   "outputs": [],
   "source": [
    "## create a ec2 resource instance\n",
    "ec2 = boto3.resource('ec2', \n",
    "                    region_name = EC2_REGION,\n",
    "                    aws_access_key_id = KEY,\n",
    "                    aws_secret_access_key = SECRET)"
   ]
  },
  {
   "cell_type": "code",
   "execution_count": 31,
   "metadata": {},
   "outputs": [],
   "source": [
    "## create a ec2 client instnace\n",
    "ec2_client = boto3.client('ec2')"
   ]
  },
  {
   "cell_type": "code",
   "execution_count": 32,
   "metadata": {},
   "outputs": [],
   "source": [
    "rds_client = boto3.client('rds')"
   ]
  },
  {
   "cell_type": "code",
   "execution_count": 33,
   "metadata": {},
   "outputs": [
    {
     "name": "stdout",
     "output_type": "stream",
     "text": [
      "Created a new key pair in AWS.\n",
      "Saving the keypair.\n",
      "Changed access permission to read-only.\n"
     ]
    }
   ],
   "source": [
    "## create a key pair and download them \n",
    "get_keypair(ec2)"
   ]
  },
  {
   "cell_type": "code",
   "execution_count": 34,
   "metadata": {},
   "outputs": [
    {
     "name": "stdout",
     "output_type": "stream",
     "text": [
      "Creating VPC...\n",
      "VPC IMMIGRATE_DEMOGRAPHICS_VPC is available!\n"
     ]
    }
   ],
   "source": [
    "## create a VPC instance\n",
    "vpc = create_vpc(ec2)"
   ]
  },
  {
   "cell_type": "code",
   "execution_count": 35,
   "metadata": {},
   "outputs": [
    {
     "name": "stdout",
     "output_type": "stream",
     "text": [
      "Creating a public subnet...\n",
      "Subnet IMMIGRATE_DEMOGRAPHICS_PUB is available!\n",
      "Creating a private subnet...\n",
      "Subnet IMMIGRATE_DEMOGRAPHICS_PVR is available!\n"
     ]
    }
   ],
   "source": [
    "# create a public subnet\n",
    "subnet_pub_ec2 = create_subnet(ec2=ec2, vpc=vpc, subnet_name=PUB_SUBNET_NAME,\n",
    "                        subnet_region=PUB_SUBNET_REGION, \n",
    "                        subnet_cidr_block=PUB_SUBNET_CIDR_BLOCK,\n",
    "                        subnet_type='public')\n",
    "# create a private subnet\n",
    "subnet_prv_empty = create_subnet(ec2=ec2, vpc=vpc, subnet_name=PVR_SUBNET_NAME,\n",
    "                        subnet_region=PVR_SUBNET_REGION, \n",
    "                        subnet_cidr_block=PVR_SUBNET_CIDR_BLOCK,\n",
    "                        subnet_type='private')"
   ]
  },
  {
   "cell_type": "code",
   "execution_count": 36,
   "metadata": {},
   "outputs": [
    {
     "name": "stdout",
     "output_type": "stream",
     "text": [
      "Creating a public subnet...\n",
      "Subnet IMMIGRATE_DEMOGRAPHICS_SPARK_PUB is available!\n",
      "Creating a private subnet...\n",
      "Subnet IMMIGRATE_DEMOGRAPHICS_RDS_PVR is available!\n"
     ]
    }
   ],
   "source": [
    "## create a public subnet for EMR cluster\n",
    "subnet_pub_emr = create_subnet(ec2=ec2, vpc=vpc, subnet_name=PUB_SPARK_SUBNET_NAME,\n",
    "                        subnet_region=PUB_SPARK_SUBNET_REGION,\n",
    "                        subnet_cidr_block=PUB_SPARK_SUBNET_CIDR_BLOCK,\n",
    "                        subnet_type=\"public\")\n",
    "subnet_prv2_rds = create_subnet(ec2=ec2, vpc=vpc, subnet_name=PVR_RDS_SUBNET_NAME,\n",
    "                        subnet_region=PVR_RDS_SUBNET_REGION,\n",
    "                        subnet_cidr_block=PVR_RDS_SUBNET_CIDR_BLOCK,\n",
    "                        subnet_type=\"private\")"
   ]
  },
  {
   "cell_type": "code",
   "execution_count": 37,
   "metadata": {},
   "outputs": [
    {
     "data": {
      "text/plain": [
       "{'ResponseMetadata': {'RequestId': 'f2eab257-8b56-4e2b-a08c-b4a0bd88d01a',\n",
       "  'HTTPStatusCode': 200,\n",
       "  'HTTPHeaders': {'x-amzn-requestid': 'f2eab257-8b56-4e2b-a08c-b4a0bd88d01a',\n",
       "   'content-type': 'text/xml;charset=UTF-8',\n",
       "   'content-length': '243',\n",
       "   'date': 'Tue, 06 Oct 2020 19:15:36 GMT',\n",
       "   'server': 'AmazonEC2'},\n",
       "  'RetryAttempts': 0}}"
      ]
     },
     "execution_count": 37,
     "metadata": {},
     "output_type": "execute_result"
    }
   ],
   "source": [
    "## create internet gateway\n",
    "ig = ec2.create_internet_gateway(TagSpecifications=[{\n",
    "            'ResourceType':'internet-gateway',\n",
    "            'Tags':[{\"Key\": \"Name\", \"Value\": IG_NAME},\n",
    "                   ]}])\n",
    "## attach the internet gateway to the VPC\n",
    "vpc.attach_internet_gateway(InternetGatewayId = ig.id)"
   ]
  },
  {
   "cell_type": "code",
   "execution_count": null,
   "metadata": {},
   "outputs": [],
   "source": [
    "###### the next 2 steps is to allow SSH connection from outside of VPC to the EC instance"
   ]
  },
  {
   "cell_type": "code",
   "execution_count": 38,
   "metadata": {},
   "outputs": [
    {
     "data": {
      "text/plain": [
       "ec2.RouteTableAssociation(id='rtbassoc-0bf9ac3c663047b74')"
      ]
     },
     "execution_count": 38,
     "metadata": {},
     "output_type": "execute_result"
    }
   ],
   "source": [
    "## 1.1 create a new route table for public subnet and\n",
    "routetable = vpc.create_route_table(\n",
    "    TagSpecifications=[\n",
    "        {\n",
    "            'ResourceType': 'route-table',\n",
    "            'Tags': [\n",
    "                {\n",
    "                    'Key': 'Name',\n",
    "                    'Value': RT_NAME\n",
    "                },\n",
    "            ]\n",
    "        },\n",
    "    ]\n",
    ")\n",
    "## 1.2 create new route, that allows traffic outside of VPC to go to the internet gateway\n",
    "route = routetable.create_route(DestinationCidrBlock='0.0.0.0/0', GatewayId=ig.id)\n",
    "## 1.3 attach the new route to the public subnet\n",
    "routetable.associate_with_subnet(SubnetId=subnet_pub_ec2.id)\n",
    "routetable.associate_with_subnet(SubnetId=subnet_pub_emr.id)"
   ]
  },
  {
   "cell_type": "code",
   "execution_count": 44,
   "metadata": {},
   "outputs": [
    {
     "data": {
      "text/plain": [
       "{'ResponseMetadata': {'RequestId': '47bdae6f-48fb-44c8-87bc-34018d7324ad',\n",
       "  'HTTPStatusCode': 200,\n",
       "  'HTTPHeaders': {'x-amzn-requestid': '47bdae6f-48fb-44c8-87bc-34018d7324ad',\n",
       "   'content-type': 'text/xml;charset=UTF-8',\n",
       "   'content-length': '259',\n",
       "   'date': 'Tue, 06 Oct 2020 19:31:07 GMT',\n",
       "   'server': 'AmazonEC2'},\n",
       "  'RetryAttempts': 0}}"
      ]
     },
     "execution_count": 44,
     "metadata": {},
     "output_type": "execute_result"
    }
   ],
   "source": [
    "## 2.1 get default security group id\n",
    "sg = ec2_client.describe_security_groups(Filters=[{'Name': 'vpc-id',\n",
    "                                                    'Values': [vpc.vpc_id]}\n",
    "                                                 ])\n",
    "\n",
    "for sg_ in sg['SecurityGroups']:\n",
    "    if sg_['Description'] == 'default VPC security group':\n",
    "        sg_default = sg_\n",
    "        break\n",
    "        \n",
    "sg_default_id = sg_default['GroupId']\n",
    "## 2.2 add imbound rule for the security group, allowing SSH connect from all the internet\n",
    "ec2_client.authorize_security_group_ingress(GroupId = sg_default_id,\n",
    "                                        IpPermissions=[\n",
    "                                        {\n",
    "                                            'FromPort': 8998,\n",
    "                                            'IpProtocol': 'tcp',\n",
    "                                            'IpRanges': [\n",
    "                                                {\n",
    "                                                    'CidrIp': '0.0.0.0/0',\n",
    "                                                    'Description': 'SSH access from outside',\n",
    "                                                },\n",
    "                                            ],\n",
    "                                            'ToPort': 8998,\n",
    "                                        },\n",
    "                                        {\n",
    "                                            \"FromPort\": 8080,\n",
    "                                            \"IpProtocol\": \"tcp\",\n",
    "                                            \"IpRanges\": [\n",
    "                                                {\n",
    "                                                    \"CidrIp\": \"0.0.0.0/0\",\n",
    "                                                    \"Description\": \"Apache Airflow\",\n",
    "                                                },\n",
    "                                            ],\n",
    "                                            \"ToPort\": 8080,\n",
    "                                        }\n",
    "                                    ],)"
   ]
  },
  {
   "cell_type": "code",
   "execution_count": 48,
   "metadata": {},
   "outputs": [],
   "source": [
    "## create EC2 instance\n",
    "instances = ec2.create_instances(\n",
    "     ImageId=AMI_ID,\n",
    "     MinCount=1,\n",
    "     MaxCount=1,\n",
    "     InstanceType=EC2_TYPE,\n",
    "     KeyName=KEY_PAIR_NAME,\n",
    "     NetworkInterfaces=[{\n",
    "             'DeviceIndex':0,\n",
    "             'SubnetId': subnet_pub_ec2.id}],\n",
    "#               'SubnetId': 'subnet-0ee2d46148e05870f'}],\n",
    "     TagSpecifications=[{\n",
    "            'ResourceType':'instance',\n",
    "            'Tags':[{\"Key\": \"Name\", \"Value\": EC2_NAME}]\n",
    "            }]\n",
    " )\n",
    "\n",
    "# get instance ids\n",
    "instances_ids = [i.instance_id for i in instances]\n",
    "\n",
    "# wait till instance is ready\n",
    "waiter = ec2_client.get_waiter('instance_running')\n",
    "waiter.wait(InstanceIds=instances_ids)\n"
   ]
  },
  {
   "cell_type": "code",
   "execution_count": 49,
   "metadata": {},
   "outputs": [
    {
     "name": "stdout",
     "output_type": "stream",
     "text": [
      "{'AssociationId': 'eipassoc-0d7a22c90038871d8', 'ResponseMetadata': {'RequestId': 'e8bc7259-a4e7-4f58-acc2-3d5bbdff9bd5', 'HTTPStatusCode': 200, 'HTTPHeaders': {'x-amzn-requestid': 'e8bc7259-a4e7-4f58-acc2-3d5bbdff9bd5', 'content-type': 'text/xml;charset=UTF-8', 'content-length': '295', 'date': 'Tue, 06 Oct 2020 19:32:33 GMT', 'server': 'AmazonEC2'}, 'RetryAttempts': 0}}\n",
      "\n",
      "The EIP is: 3.18.83.229\n"
     ]
    }
   ],
   "source": [
    "## create new EIP and attach it to existing EC2 instance\n",
    "instance_id = instances[0].instance_id\n",
    "try:\n",
    "    allocation = ec2_client.allocate_address(Domain='vpc')\n",
    "    response = ec2_client.associate_address(AllocationId=allocation['AllocationId'],\n",
    "                                     InstanceId=instance_id)\n",
    "    print(response)\n",
    "except ClientError as e:\n",
    "    print(e)\n",
    "print(f\"\\nThe EIP is: {allocation['PublicIp']}\")"
   ]
  },
  {
   "cell_type": "code",
   "execution_count": 51,
   "metadata": {},
   "outputs": [],
   "source": [
    "## 3.1 create security group for RDS\n",
    "rds_sg = ec2_client.create_security_group(\n",
    "#      VpcId=vpc.id,\n",
    "    Description=\"IMMIGRATE_RDS_SG\",\n",
    "    GroupName=\"IMMIGRATE_RDS_SG\",\n",
    "    VpcId=vpc.id,\n",
    "    TagSpecifications=[{\n",
    "        'ResourceType':'security-group',\n",
    "         'Tags':[{\"Key\": \"Name\", \"Value\": RDS_SG_NAME}]\n",
    "        }]\n",
    ")"
   ]
  },
  {
   "cell_type": "code",
   "execution_count": 52,
   "metadata": {},
   "outputs": [
    {
     "data": {
      "text/plain": [
       "{'GroupId': 'sg-0040e35bef1440512',\n",
       " 'Tags': [{'Key': 'Name', 'Value': 'IMMIGRATE_RDS_SG'}],\n",
       " 'ResponseMetadata': {'RequestId': '84f53a48-62cc-418e-b2fd-7395633d92d8',\n",
       "  'HTTPStatusCode': 200,\n",
       "  'HTTPHeaders': {'x-amzn-requestid': '84f53a48-62cc-418e-b2fd-7395633d92d8',\n",
       "   'content-type': 'text/xml;charset=UTF-8',\n",
       "   'content-length': '413',\n",
       "   'date': 'Tue, 06 Oct 2020 19:35:53 GMT',\n",
       "   'server': 'AmazonEC2'},\n",
       "  'RetryAttempts': 0}}"
      ]
     },
     "execution_count": 52,
     "metadata": {},
     "output_type": "execute_result"
    }
   ],
   "source": [
    "rds_sg"
   ]
  },
  {
   "cell_type": "code",
   "execution_count": 53,
   "metadata": {},
   "outputs": [],
   "source": [
    "## 3.2 get default security group id\n",
    "sg = ec2_client.describe_security_groups(Filters=[{'Name': 'vpc-id',\n",
    "                                                    'Values': [vpc.vpc_id]}\n",
    "                                                 ])\n",
    "\n",
    "for sg_ in sg['SecurityGroups']:\n",
    "    if sg_['Description'] == 'default VPC security group':\n",
    "        sg_default = sg_\n",
    "        break\n",
    "        \n",
    "sg_default_id = sg_default['GroupId']"
   ]
  },
  {
   "cell_type": "code",
   "execution_count": 54,
   "metadata": {},
   "outputs": [
    {
     "data": {
      "text/plain": [
       "{'ResponseMetadata': {'RequestId': 'dc9431b0-a659-46c8-aa21-c73f982dc699',\n",
       "  'HTTPStatusCode': 200,\n",
       "  'HTTPHeaders': {'x-amzn-requestid': 'dc9431b0-a659-46c8-aa21-c73f982dc699',\n",
       "   'content-type': 'text/xml;charset=UTF-8',\n",
       "   'content-length': '259',\n",
       "   'date': 'Tue, 06 Oct 2020 19:37:54 GMT',\n",
       "   'server': 'AmazonEC2'},\n",
       "  'RetryAttempts': 0}}"
      ]
     },
     "execution_count": 54,
     "metadata": {},
     "output_type": "execute_result"
    }
   ],
   "source": [
    "## 3.3 allow TCP connect to port 5432\n",
    "ec2_client.authorize_security_group_ingress(GroupId = rds_sg['GroupId'],\n",
    "                                        IpPermissions=[\n",
    "                                        {\n",
    "                                            'FromPort': 5432,\n",
    "                                            'IpProtocol': 'tcp',\n",
    "                                            'UserIdGroupPairs': [\n",
    "                                                {\n",
    "                                                    'GroupId': sg_default_id,\n",
    "                                                    'Description': 'Postgres RDS',\n",
    "                                                },\n",
    "                                            ],\n",
    "                                            'ToPort': 5432,\n",
    "                                        },\n",
    "                                    ],)"
   ]
  },
  {
   "cell_type": "code",
   "execution_count": 57,
   "metadata": {},
   "outputs": [
    {
     "data": {
      "text/plain": [
       "{'DBSubnetGroup': {'DBSubnetGroupName': 'immigrate_rds_subnet_groups',\n",
       "  'DBSubnetGroupDescription': 'IMMIGRATE_RDS_SUBNET_GROUPS',\n",
       "  'VpcId': 'vpc-0808bc58b136772dd',\n",
       "  'SubnetGroupStatus': 'Complete',\n",
       "  'Subnets': [{'SubnetIdentifier': 'subnet-02a1ee5e6d38a029f',\n",
       "    'SubnetAvailabilityZone': {'Name': 'us-east-2b'},\n",
       "    'SubnetOutpost': {},\n",
       "    'SubnetStatus': 'Active'},\n",
       "   {'SubnetIdentifier': 'subnet-074f7c1568b4e6cad',\n",
       "    'SubnetAvailabilityZone': {'Name': 'us-east-2c'},\n",
       "    'SubnetOutpost': {},\n",
       "    'SubnetStatus': 'Active'}],\n",
       "  'DBSubnetGroupArn': 'arn:aws:rds:us-east-2:736387989270:subgrp:immigrate_rds_subnet_groups'},\n",
       " 'ResponseMetadata': {'RequestId': 'd48ec3de-d14e-4c58-858b-6541947f3332',\n",
       "  'HTTPStatusCode': 200,\n",
       "  'HTTPHeaders': {'x-amzn-requestid': 'd48ec3de-d14e-4c58-858b-6541947f3332',\n",
       "   'content-type': 'text/xml',\n",
       "   'content-length': '1296',\n",
       "   'date': 'Tue, 06 Oct 2020 19:39:56 GMT'},\n",
       "  'RetryAttempts': 0}}"
      ]
     },
     "execution_count": 57,
     "metadata": {},
     "output_type": "execute_result"
    }
   ],
   "source": [
    "## 3.4 create subnet group\n",
    "subnet_group = rds_client.create_db_subnet_group(\n",
    "    DBSubnetGroupName='IMMIGRATE_RDS_SUBNET_GROUPS',\n",
    "    DBSubnetGroupDescription='IMMIGRATE_RDS_SUBNET_GROUPS',\n",
    "    SubnetIds=[\n",
    "        subnet_prv_empty.id,\n",
    "        subnet_prv2_rds.id\n",
    "    ],\n",
    "    Tags=[\n",
    "        {\n",
    "            'Key': 'Name',\n",
    "            'Value': 'IMMIGRATE_RDS_SUBNET_GROUPS'\n",
    "        },\n",
    "    ]\n",
    ")"
   ]
  },
  {
   "cell_type": "code",
   "execution_count": 62,
   "metadata": {},
   "outputs": [
    {
     "data": {
      "text/plain": [
       "'IMMIGRATE_DEMOGRAPHICS_DB'"
      ]
     },
     "execution_count": 62,
     "metadata": {},
     "output_type": "execute_result"
    }
   ],
   "source": [
    "RDS_NAME"
   ]
  },
  {
   "cell_type": "code",
   "execution_count": 70,
   "metadata": {},
   "outputs": [],
   "source": [
    "## 3.5 create database instance\n",
    "rds_instance = rds_client.create_db_instance(\n",
    "                   DBInstanceIdentifier=RDS_IDENTIFIER,\n",
    "                   AllocatedStorage=20,\n",
    "                   DBName=RDS_NAME,\n",
    "                   Engine='postgres',\n",
    "                   # General purpose SSD\n",
    "                   StorageType='gp2',\n",
    "#                    StorageEncrypted=True,\n",
    "#                    AutoMinorVersionUpgrade=True,\n",
    "                   # Set this to true later?\n",
    "                   MultiAZ=False,\n",
    "                   MasterUsername='immigrate_demo',\n",
    "                   MasterUserPassword='=p<%Gs7TS_pd%-',\n",
    "                   VpcSecurityGroupIds=[rds_sg['GroupId']],\n",
    "                   DBSubnetGroupName='immigrate_rds_subnet_groups',\n",
    "                   DBInstanceClass='db.t2.micro' \n",
    "                        #,\n",
    "#                    Tags=[{'Key': 'MyTag', 'Value': 'Hawaii'}]\n",
    ")\n",
    "\n",
    "# wait till instance is ready\n",
    "waiter = rds_client.get_waiter('db_instance_available')\n",
    "waiter.wait(DBInstanceIdentifier=RDS_IDENTIFIER)"
   ]
  },
  {
   "cell_type": "code",
   "execution_count": 71,
   "metadata": {},
   "outputs": [
    {
     "data": {
      "text/plain": [
       "{'DBInstance': {'DBInstanceIdentifier': 'immigrate-demo-db',\n",
       "  'DBInstanceClass': 'db.t2.micro',\n",
       "  'Engine': 'postgres',\n",
       "  'DBInstanceStatus': 'creating',\n",
       "  'MasterUsername': 'immigrate_demo',\n",
       "  'DBName': 'IMMIGRATE_DEMOGRAPHICS_DB',\n",
       "  'AllocatedStorage': 20,\n",
       "  'PreferredBackupWindow': '08:50-09:20',\n",
       "  'BackupRetentionPeriod': 1,\n",
       "  'DBSecurityGroups': [],\n",
       "  'VpcSecurityGroups': [{'VpcSecurityGroupId': 'sg-0040e35bef1440512',\n",
       "    'Status': 'active'}],\n",
       "  'DBParameterGroups': [{'DBParameterGroupName': 'default.postgres12',\n",
       "    'ParameterApplyStatus': 'in-sync'}],\n",
       "  'DBSubnetGroup': {'DBSubnetGroupName': 'immigrate_rds_subnet_groups',\n",
       "   'DBSubnetGroupDescription': 'IMMIGRATE_RDS_SUBNET_GROUPS',\n",
       "   'VpcId': 'vpc-0808bc58b136772dd',\n",
       "   'SubnetGroupStatus': 'Complete',\n",
       "   'Subnets': [{'SubnetIdentifier': 'subnet-02a1ee5e6d38a029f',\n",
       "     'SubnetAvailabilityZone': {'Name': 'us-east-2b'},\n",
       "     'SubnetOutpost': {},\n",
       "     'SubnetStatus': 'Active'},\n",
       "    {'SubnetIdentifier': 'subnet-074f7c1568b4e6cad',\n",
       "     'SubnetAvailabilityZone': {'Name': 'us-east-2c'},\n",
       "     'SubnetOutpost': {},\n",
       "     'SubnetStatus': 'Active'}]},\n",
       "  'PreferredMaintenanceWindow': 'sun:07:38-sun:08:08',\n",
       "  'PendingModifiedValues': {'MasterUserPassword': '****'},\n",
       "  'MultiAZ': False,\n",
       "  'EngineVersion': '12.3',\n",
       "  'AutoMinorVersionUpgrade': True,\n",
       "  'ReadReplicaDBInstanceIdentifiers': [],\n",
       "  'LicenseModel': 'postgresql-license',\n",
       "  'OptionGroupMemberships': [{'OptionGroupName': 'default:postgres-12',\n",
       "    'Status': 'in-sync'}],\n",
       "  'PubliclyAccessible': False,\n",
       "  'StorageType': 'gp2',\n",
       "  'DbInstancePort': 0,\n",
       "  'StorageEncrypted': False,\n",
       "  'DbiResourceId': 'db-OAL2U3HKZGPR55VCSAJAALK34Y',\n",
       "  'CACertificateIdentifier': 'rds-ca-2019',\n",
       "  'DomainMemberships': [],\n",
       "  'CopyTagsToSnapshot': False,\n",
       "  'MonitoringInterval': 0,\n",
       "  'DBInstanceArn': 'arn:aws:rds:us-east-2:736387989270:db:immigrate-demo-db',\n",
       "  'IAMDatabaseAuthenticationEnabled': False,\n",
       "  'PerformanceInsightsEnabled': False,\n",
       "  'DeletionProtection': False,\n",
       "  'AssociatedRoles': []},\n",
       " 'ResponseMetadata': {'RequestId': '46b13778-42de-4ec7-991b-f5ad17f30d4d',\n",
       "  'HTTPStatusCode': 200,\n",
       "  'HTTPHeaders': {'x-amzn-requestid': '46b13778-42de-4ec7-991b-f5ad17f30d4d',\n",
       "   'content-type': 'text/xml',\n",
       "   'content-length': '3729',\n",
       "   'vary': 'accept-encoding',\n",
       "   'date': 'Tue, 06 Oct 2020 21:06:39 GMT'},\n",
       "  'RetryAttempts': 0}}"
      ]
     },
     "execution_count": 71,
     "metadata": {},
     "output_type": "execute_result"
    }
   ],
   "source": [
    "rds_instance"
   ]
  },
  {
   "cell_type": "code",
   "execution_count": 34,
   "metadata": {},
   "outputs": [],
   "source": []
  },
  {
   "cell_type": "code",
   "execution_count": null,
   "metadata": {},
   "outputs": [],
   "source": []
  },
  {
   "cell_type": "code",
   "execution_count": null,
   "metadata": {},
   "outputs": [],
   "source": []
  },
  {
   "cell_type": "code",
   "execution_count": 99,
   "metadata": {},
   "outputs": [],
   "source": []
  },
  {
   "cell_type": "code",
   "execution_count": null,
   "metadata": {},
   "outputs": [],
   "source": []
  },
  {
   "cell_type": "code",
   "execution_count": null,
   "metadata": {},
   "outputs": [],
   "source": []
  },
  {
   "cell_type": "code",
   "execution_count": null,
   "metadata": {},
   "outputs": [],
   "source": []
  },
  {
   "cell_type": "code",
   "execution_count": null,
   "metadata": {},
   "outputs": [],
   "source": []
  },
  {
   "cell_type": "code",
   "execution_count": null,
   "metadata": {},
   "outputs": [],
   "source": []
  },
  {
   "cell_type": "code",
   "execution_count": null,
   "metadata": {},
   "outputs": [],
   "source": []
  },
  {
   "cell_type": "code",
   "execution_count": null,
   "metadata": {},
   "outputs": [],
   "source": []
  },
  {
   "cell_type": "code",
   "execution_count": 38,
   "metadata": {
    "scrolled": true
   },
   "outputs": [],
   "source": []
  },
  {
   "cell_type": "code",
   "execution_count": null,
   "metadata": {},
   "outputs": [],
   "source": []
  },
  {
   "cell_type": "code",
   "execution_count": null,
   "metadata": {},
   "outputs": [],
   "source": []
  },
  {
   "cell_type": "code",
   "execution_count": null,
   "metadata": {},
   "outputs": [],
   "source": []
  },
  {
   "cell_type": "code",
   "execution_count": null,
   "metadata": {},
   "outputs": [],
   "source": []
  }
 ],
 "metadata": {
  "kernelspec": {
   "display_name": "Python 3",
   "language": "python",
   "name": "python3"
  },
  "language_info": {
   "codemirror_mode": {
    "name": "ipython",
    "version": 3
   },
   "file_extension": ".py",
   "mimetype": "text/x-python",
   "name": "python",
   "nbconvert_exporter": "python",
   "pygments_lexer": "ipython3",
   "version": "3.7.6"
  }
 },
 "nbformat": 4,
 "nbformat_minor": 4
}
