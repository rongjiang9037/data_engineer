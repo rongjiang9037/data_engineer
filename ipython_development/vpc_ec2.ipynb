{
 "cells": [
  {
   "cell_type": "code",
   "execution_count": 72,
   "metadata": {},
   "outputs": [],
   "source": [
    "import os\n",
    "\n",
    "import boto3\n",
    "import botocore\n",
    "import configparser\n",
    "\n",
    "from botocore.exceptions import ClientError"
   ]
  },
  {
   "cell_type": "code",
   "execution_count": 93,
   "metadata": {},
   "outputs": [],
   "source": [
    "config_aws = configparser.ConfigParser()\n",
    "config_aws.read_file(open('../config/aws_credentials.cfg'))\n",
    "\n",
    "KEY                    = config_aws.get('AWS','KEY')\n",
    "SECRET                 = config_aws.get('AWS','SECRET')\n",
    "IAM_ARN                = config_aws.get('AWS', 'IAM_ARN')"
   ]
  },
  {
   "cell_type": "code",
   "execution_count": 74,
   "metadata": {},
   "outputs": [],
   "source": [
    "config_instance = configparser.ConfigParser()\n",
    "config_instance.read_file(open('../config/aws_setup.cfg'))\n",
    "\n",
    "AMI_ID                 = config_instance.get(\"AWS\", \"AMI_ID\")\n",
    "KEY_PAIR_NAME          = config_instance.get(\"AWS\", \"KEY_PAIR_NAME\")\n",
    "## EC2 config\n",
    "EC2_REGION             = config_instance.get(\"EC2\", \"REGION\")\n",
    "EC2_TYPE               = config_instance.get(\"EC2\", \"INSTANCE_TYPE\")\n",
    "EC2_NAME               = config_instance.get(\"EC2\", \"NAME\")\n",
    "## VPC config\n",
    "VPC_NAME               = config_instance.get(\"VPC\", \"NAME\")\n",
    "VPC_CIDR_BLOCK         = config_instance.get(\"VPC\", \"CIDR_BLOCK\")\n",
    "## public subnet config\n",
    "PUB_SUBNET_NAME        = config_instance.get(\"SUBNET\", \"PUB_SUBNET_NAME\")\n",
    "PUB_SUBNET_CIDR_BLOCK  = config_instance.get(\"SUBNET\", \"PUB_SUBNET_CIDR_BLOCK\")\n",
    "PUB_SUBNET_REGION      = config_instance.get(\"SUBNET\", \"PUB_SUBNET_REGION\")\n",
    "PVR_SUBNET_NAME        = config_instance.get(\"SUBNET\", \"PVR_SUBNET_NAME\")\n",
    "## public subnet for EMR cluster config\n",
    "PUB_SPARK_SUBNET_NAME        = config_instance.get(\"SUBNET\", \"PUB_SPARK_SUBNET_NAME\")\n",
    "PUB_SPARK_SUBNET_CIDR_BLOCK  = config_instance.get(\"SUBNET\", \"PUB_SPARK_SUBNET_CIDR_BLOCK\")\n",
    "PUB_SPARK_SUBNET_REGION      = config_instance.get(\"SUBNET\", \"PUB_SPARK_SUBNET_REGION\")\n",
    "## private subnet (empty)\n",
    "PVR_SUBNET_NAME        = config_instance.get(\"SUBNET\", \"PVR_SUBNET_NAME\")\n",
    "PVR_SUBNET_CIDR_BLOCK  = config_instance.get(\"SUBNET\", \"PVR_SUBNET_CIDR_BLOCK\")\n",
    "PVR_SUBNET_REGION      = config_instance.get(\"SUBNET\", \"PVR_SUBNET_REGION\")\n",
    "## private subnet for RDS\n",
    "PVR_RDS_SUBNET_NAME        = config_instance.get(\"SUBNET\", \"PVR_RDS_SUBNET_NAME\")\n",
    "PVR_RDS_SUBNET_CIDR_BLOCK  = config_instance.get(\"SUBNET\", \"PVR_RDS_SUBNET_CIDR_BLOCK\")\n",
    "PVR_RDS_SUBNET_REGION      = config_instance.get(\"SUBNET\", \"PVR_RDS_SUBNET_REGION\")\n",
    "## route table config\n",
    "RT_NAME                = config_instance.get(\"ROUTE_TABLE\", \"NAME\")\n",
    "## internet gateway config\n",
    "IG_NAME                = config_instance.get(\"IG\", \"NAME\")\n",
    "## security group\n",
    "RDS_SG_NAME            = config_instance.get(\"SG\", 'RDS_SG_NAM')\n",
    "RDS_NAME               = config_instance.get(\"RDS\", \"NAME\")\n",
    "RDS_IDENTIFIER         = config_instance.get(\"RDS\", \"RDS_IDENTIFIER\")\n"
   ]
  },
  {
   "cell_type": "code",
   "execution_count": 75,
   "metadata": {},
   "outputs": [],
   "source": [
    "def get_keypair(ec2):\n",
    "    # call the boto ec2 function to create a key pair\n",
    "    key_pair = ec2.create_key_pair(KeyName=KEY_PAIR_NAME)\n",
    "    print(\"Created a new key pair in AWS.\")\n",
    "\n",
    "    # capture the key and store it in a file\n",
    "    KeyPairOut = str(key_pair.key_material)\n",
    "\n",
    "    # create a file to store the key locally\n",
    "    print(\"Saving the keypair.\")\n",
    "    key_pair_path = KEY_PAIR_NAME + '.pem'\n",
    "    with open(key_pair_path, 'w') as f:\n",
    "        f.write(KeyPairOut)\n",
    "    os.chmod(key_pair_path, 0o600)\n",
    "    print(\"Changed access permission to read-only.\")"
   ]
  },
  {
   "cell_type": "code",
   "execution_count": 76,
   "metadata": {},
   "outputs": [],
   "source": [
    "def create_vpc(ec2):\n",
    "    # create a new VPC\n",
    "    print(\"Creating VPC...\")\n",
    "    vpc = ec2.create_vpc(CidrBlock=VPC_CIDR_BLOCK,\n",
    "                         TagSpecifications=[{'ResourceType': 'vpc',\n",
    "                                             'Tags':[{\"Key\": \"Name\", \n",
    "                                                      \"Value\": VPC_NAME},\n",
    "                                                    ]\n",
    "                                            }])\n",
    "    \n",
    "    # wait till available and return VPC ID\n",
    "    vpc.wait_until_available()\n",
    "    print(f\"VPC {VPC_NAME} is available!\")\n",
    "    return vpc"
   ]
  },
  {
   "cell_type": "code",
   "execution_count": 77,
   "metadata": {},
   "outputs": [],
   "source": [
    "def create_subnet(ec2, vpc, \n",
    "                  subnet_name,\n",
    "                  subnet_region, \n",
    "                  subnet_cidr_block,\n",
    "                  subnet_type='private'):\n",
    "    # create a public subnet within the VPC\n",
    "    print(\"Creating a \"+subnet_type+\" subnet...\")\n",
    "    subnet = ec2.create_subnet(\n",
    "        AvailabilityZone=subnet_region,\n",
    "    #     AvailabilityZoneId='use2-az2',\n",
    "        CidrBlock=subnet_cidr_block,\n",
    "        VpcId=vpc.vpc_id,\n",
    "        DryRun=False,\n",
    "        TagSpecifications=[{\n",
    "            'ResourceType':'subnet',\n",
    "            'Tags':[{\"Key\": \"Name\", \"Value\": subnet_name},\n",
    "                   ]\n",
    "        }])\n",
    "    print(f\"Subnet {subnet_name} is available!\")\n",
    "    return subnet"
   ]
  },
  {
   "cell_type": "code",
   "execution_count": 78,
   "metadata": {},
   "outputs": [],
   "source": [
    "def stop_instance(ec2_client, instances):\n",
    "    # get a list of instance ids\n",
    "    instances_ids = [i.instance_id for i in instances]\n",
    "    # start the instances\n",
    "    ec2_client.stop_instances(InstanceIds=instances_ids)\n",
    "    \n",
    "    # wait till instance is stopped\n",
    "    waiter = ec2_client.get_waiter('instance_stopped')\n",
    "    waiter.wait(InstanceIds=instances_ids)\n",
    "    print(\"EC2 instance has stopped!\")"
   ]
  },
  {
   "cell_type": "code",
   "execution_count": 79,
   "metadata": {},
   "outputs": [],
   "source": [
    "def start_instance(ec2_client, instances):\n",
    "    # get a list of instance ids\n",
    "    instances_ids = [i.instance_id for i in instances]\n",
    "    # start the instances\n",
    "    ec2_client.start_instances(InstanceIds=instances_ids)\n",
    "    \n",
    "    # wait till instance is ready\n",
    "    waiter = ec2_client.get_waiter('instance_running')\n",
    "    waiter.wait(InstanceIds=instances_ids)\n",
    "    print(\"EC2 instance is ready!\")"
   ]
  },
  {
   "cell_type": "code",
   "execution_count": 80,
   "metadata": {},
   "outputs": [],
   "source": [
    "## create a ec2 resource instance\n",
    "ec2 = boto3.resource('ec2', \n",
    "                    region_name = EC2_REGION,\n",
    "                    aws_access_key_id = KEY,\n",
    "                    aws_secret_access_key = SECRET)"
   ]
  },
  {
   "cell_type": "code",
   "execution_count": 81,
   "metadata": {},
   "outputs": [],
   "source": [
    "## create a ec2 client instnace\n",
    "ec2_client = boto3.client('ec2')"
   ]
  },
  {
   "cell_type": "code",
   "execution_count": 82,
   "metadata": {},
   "outputs": [],
   "source": [
    "rds_client = boto3.client('rds')"
   ]
  },
  {
   "cell_type": "code",
   "execution_count": 84,
   "metadata": {},
   "outputs": [
    {
     "name": "stdout",
     "output_type": "stream",
     "text": [
      "Created a new key pair in AWS.\n",
      "Saving the keypair.\n",
      "Changed access permission to read-only.\n"
     ]
    }
   ],
   "source": [
    "## create a key pair and download them \n",
    "get_keypair(ec2)"
   ]
  },
  {
   "cell_type": "code",
   "execution_count": 85,
   "metadata": {},
   "outputs": [
    {
     "name": "stdout",
     "output_type": "stream",
     "text": [
      "Creating VPC...\n",
      "VPC IMMIGRATE_DEMOGRAPHICS_VPC is available!\n"
     ]
    }
   ],
   "source": [
    "## create a VPC instance\n",
    "vpc = create_vpc(ec2)"
   ]
  },
  {
   "cell_type": "code",
   "execution_count": 86,
   "metadata": {},
   "outputs": [
    {
     "name": "stdout",
     "output_type": "stream",
     "text": [
      "Creating a public subnet...\n",
      "Subnet IMMIGRATE_DEMOGRAPHICS_PUB is available!\n",
      "Creating a private subnet...\n",
      "Subnet IMMIGRATE_DEMOGRAPHICS_PVR is available!\n"
     ]
    }
   ],
   "source": [
    "# create a public subnet\n",
    "subnet_pub_ec2 = create_subnet(ec2=ec2, vpc=vpc, subnet_name=PUB_SUBNET_NAME,\n",
    "                        subnet_region=PUB_SUBNET_REGION, \n",
    "                        subnet_cidr_block=PUB_SUBNET_CIDR_BLOCK,\n",
    "                        subnet_type='public')\n",
    "# create a private subnet\n",
    "subnet_prv_empty = create_subnet(ec2=ec2, vpc=vpc, subnet_name=PVR_SUBNET_NAME,\n",
    "                        subnet_region=PVR_SUBNET_REGION, \n",
    "                        subnet_cidr_block=PVR_SUBNET_CIDR_BLOCK,\n",
    "                        subnet_type='private')"
   ]
  },
  {
   "cell_type": "code",
   "execution_count": 87,
   "metadata": {},
   "outputs": [
    {
     "name": "stdout",
     "output_type": "stream",
     "text": [
      "Creating a public subnet...\n",
      "Subnet IMMIGRATE_DEMOGRAPHICS_SPARK_PUB is available!\n",
      "Creating a private subnet...\n",
      "Subnet IMMIGRATE_DEMOGRAPHICS_RDS_PVR is available!\n"
     ]
    }
   ],
   "source": [
    "## create a public subnet for EMR cluster\n",
    "subnet_pub_emr = create_subnet(ec2=ec2, vpc=vpc, subnet_name=PUB_SPARK_SUBNET_NAME,\n",
    "                        subnet_region=PUB_SPARK_SUBNET_REGION,\n",
    "                        subnet_cidr_block=PUB_SPARK_SUBNET_CIDR_BLOCK,\n",
    "                        subnet_type=\"public\")\n",
    "subnet_prv2_rds = create_subnet(ec2=ec2, vpc=vpc, subnet_name=PVR_RDS_SUBNET_NAME,\n",
    "                        subnet_region=PVR_RDS_SUBNET_REGION,\n",
    "                        subnet_cidr_block=PVR_RDS_SUBNET_CIDR_BLOCK,\n",
    "                        subnet_type=\"private\")"
   ]
  },
  {
   "cell_type": "code",
   "execution_count": 88,
   "metadata": {},
   "outputs": [
    {
     "data": {
      "text/plain": [
       "{'ResponseMetadata': {'RequestId': '7e3e92b4-283b-45fd-b34c-84f469698ce2',\n",
       "  'HTTPStatusCode': 200,\n",
       "  'HTTPHeaders': {'x-amzn-requestid': '7e3e92b4-283b-45fd-b34c-84f469698ce2',\n",
       "   'content-type': 'text/xml;charset=UTF-8',\n",
       "   'content-length': '243',\n",
       "   'date': 'Fri, 09 Oct 2020 18:45:11 GMT',\n",
       "   'server': 'AmazonEC2'},\n",
       "  'RetryAttempts': 0}}"
      ]
     },
     "execution_count": 88,
     "metadata": {},
     "output_type": "execute_result"
    }
   ],
   "source": [
    "## create internet gateway\n",
    "ig = ec2.create_internet_gateway(TagSpecifications=[{\n",
    "            'ResourceType':'internet-gateway',\n",
    "            'Tags':[{\"Key\": \"Name\", \"Value\": IG_NAME},\n",
    "                   ]}])\n",
    "## attach the internet gateway to the VPC\n",
    "vpc.attach_internet_gateway(InternetGatewayId = ig.id)"
   ]
  },
  {
   "cell_type": "code",
   "execution_count": 89,
   "metadata": {},
   "outputs": [],
   "source": [
    "###### the next 2 steps is to allow SSH connection from outside of VPC to the EC instance"
   ]
  },
  {
   "cell_type": "code",
   "execution_count": 90,
   "metadata": {},
   "outputs": [
    {
     "data": {
      "text/plain": [
       "ec2.RouteTableAssociation(id='rtbassoc-0c65bf40afd9840ce')"
      ]
     },
     "execution_count": 90,
     "metadata": {},
     "output_type": "execute_result"
    }
   ],
   "source": [
    "## 1.1 create a new route table for public subnet and\n",
    "routetable = vpc.create_route_table(\n",
    "    TagSpecifications=[\n",
    "        {\n",
    "            'ResourceType': 'route-table',\n",
    "            'Tags': [\n",
    "                {\n",
    "                    'Key': 'Name',\n",
    "                    'Value': RT_NAME\n",
    "                },\n",
    "            ]\n",
    "        },\n",
    "    ]\n",
    ")\n",
    "## 1.2 create new route, that allows traffic outside of VPC to go to the internet gateway\n",
    "route = routetable.create_route(DestinationCidrBlock='0.0.0.0/0', GatewayId=ig.id)\n",
    "## 1.3 attach the new route to the public subnet\n",
    "routetable.associate_with_subnet(SubnetId=subnet_pub_ec2.id)\n",
    "routetable.associate_with_subnet(SubnetId=subnet_pub_emr.id)"
   ]
  },
  {
   "cell_type": "code",
   "execution_count": 91,
   "metadata": {},
   "outputs": [
    {
     "data": {
      "text/plain": [
       "{'ResponseMetadata': {'RequestId': 'd5196968-635f-4f8b-9611-b6a5e239adf0',\n",
       "  'HTTPStatusCode': 200,\n",
       "  'HTTPHeaders': {'x-amzn-requestid': 'd5196968-635f-4f8b-9611-b6a5e239adf0',\n",
       "   'content-type': 'text/xml;charset=UTF-8',\n",
       "   'content-length': '259',\n",
       "   'date': 'Fri, 09 Oct 2020 18:45:22 GMT',\n",
       "   'server': 'AmazonEC2'},\n",
       "  'RetryAttempts': 0}}"
      ]
     },
     "execution_count": 91,
     "metadata": {},
     "output_type": "execute_result"
    }
   ],
   "source": [
    "## 2.1 get default security group id\n",
    "sg = ec2_client.describe_security_groups(Filters=[{'Name': 'vpc-id',\n",
    "                                                    'Values': [vpc.vpc_id]}\n",
    "                                                 ])\n",
    "\n",
    "for sg_ in sg['SecurityGroups']:\n",
    "    if sg_['Description'] == 'default VPC security group':\n",
    "        sg_default = sg_\n",
    "        break\n",
    "        \n",
    "sg_default_id = sg_default['GroupId']\n",
    "## 2.2 add imbound rule for the security group, allowing SSH connect from all the internet\n",
    "ec2_client.authorize_security_group_ingress(GroupId = sg_default_id,\n",
    "                                        IpPermissions=[\n",
    "                                        {\n",
    "                                            'FromPort': 22,\n",
    "                                            'IpProtocol': 'tcp',\n",
    "                                            'IpRanges': [\n",
    "                                                {\n",
    "                                                    'CidrIp': '0.0.0.0/0',\n",
    "                                                    'Description': 'SSH access from outside',\n",
    "                                                },\n",
    "                                            ],\n",
    "                                            'ToPort': 22,\n",
    "                                        },\n",
    "                                        {\n",
    "                                            \"FromPort\": 8080,\n",
    "                                            \"IpProtocol\": \"tcp\",\n",
    "                                            \"IpRanges\": [\n",
    "                                                {\n",
    "                                                    \"CidrIp\": \"0.0.0.0/0\",\n",
    "                                                    \"Description\": \"Apache Airflow\",\n",
    "                                                },\n",
    "                                            ],\n",
    "                                            \"ToPort\": 8080,\n",
    "                                        }\n",
    "                                    ],)"
   ]
  },
  {
   "cell_type": "code",
   "execution_count": 94,
   "metadata": {},
   "outputs": [
    {
     "ename": "KeyboardInterrupt",
     "evalue": "",
     "output_type": "error",
     "traceback": [
      "\u001b[0;31m---------------------------------------------------------------------------\u001b[0m",
      "\u001b[0;31mKeyboardInterrupt\u001b[0m                         Traceback (most recent call last)",
      "\u001b[0;32m<ipython-input-94-024f589de897>\u001b[0m in \u001b[0;36m<module>\u001b[0;34m\u001b[0m\n\u001b[1;32m     21\u001b[0m \u001b[0;31m# wait till instance is ready\u001b[0m\u001b[0;34m\u001b[0m\u001b[0;34m\u001b[0m\u001b[0;34m\u001b[0m\u001b[0m\n\u001b[1;32m     22\u001b[0m \u001b[0mwaiter\u001b[0m \u001b[0;34m=\u001b[0m \u001b[0mec2_client\u001b[0m\u001b[0;34m.\u001b[0m\u001b[0mget_waiter\u001b[0m\u001b[0;34m(\u001b[0m\u001b[0;34m'instance_running'\u001b[0m\u001b[0;34m)\u001b[0m\u001b[0;34m\u001b[0m\u001b[0;34m\u001b[0m\u001b[0m\n\u001b[0;32m---> 23\u001b[0;31m \u001b[0mwaiter\u001b[0m\u001b[0;34m.\u001b[0m\u001b[0mwait\u001b[0m\u001b[0;34m(\u001b[0m\u001b[0mInstanceIds\u001b[0m\u001b[0;34m=\u001b[0m\u001b[0minstances_ids\u001b[0m\u001b[0;34m)\u001b[0m\u001b[0;34m\u001b[0m\u001b[0;34m\u001b[0m\u001b[0m\n\u001b[0m",
      "\u001b[0;32m~/opt/anaconda3/lib/python3.7/site-packages/botocore/waiter.py\u001b[0m in \u001b[0;36mwait\u001b[0;34m(self, **kwargs)\u001b[0m\n\u001b[1;32m     51\u001b[0m     \u001b[0;31m# method.\u001b[0m\u001b[0;34m\u001b[0m\u001b[0;34m\u001b[0m\u001b[0;34m\u001b[0m\u001b[0m\n\u001b[1;32m     52\u001b[0m     \u001b[0;32mdef\u001b[0m \u001b[0mwait\u001b[0m\u001b[0;34m(\u001b[0m\u001b[0mself\u001b[0m\u001b[0;34m,\u001b[0m \u001b[0;34m**\u001b[0m\u001b[0mkwargs\u001b[0m\u001b[0;34m)\u001b[0m\u001b[0;34m:\u001b[0m\u001b[0;34m\u001b[0m\u001b[0;34m\u001b[0m\u001b[0m\n\u001b[0;32m---> 53\u001b[0;31m         \u001b[0mWaiter\u001b[0m\u001b[0;34m.\u001b[0m\u001b[0mwait\u001b[0m\u001b[0;34m(\u001b[0m\u001b[0mself\u001b[0m\u001b[0;34m,\u001b[0m \u001b[0;34m**\u001b[0m\u001b[0mkwargs\u001b[0m\u001b[0;34m)\u001b[0m\u001b[0;34m\u001b[0m\u001b[0;34m\u001b[0m\u001b[0m\n\u001b[0m\u001b[1;32m     54\u001b[0m \u001b[0;34m\u001b[0m\u001b[0m\n\u001b[1;32m     55\u001b[0m     wait.__doc__ = WaiterDocstring(\n",
      "\u001b[0;32m~/opt/anaconda3/lib/python3.7/site-packages/botocore/waiter.py\u001b[0m in \u001b[0;36mwait\u001b[0;34m(self, **kwargs)\u001b[0m\n\u001b[1;32m    329\u001b[0m                     \u001b[0mlast_response\u001b[0m\u001b[0;34m=\u001b[0m\u001b[0mresponse\u001b[0m\u001b[0;34m\u001b[0m\u001b[0;34m\u001b[0m\u001b[0m\n\u001b[1;32m    330\u001b[0m                 )\n\u001b[0;32m--> 331\u001b[0;31m             \u001b[0mtime\u001b[0m\u001b[0;34m.\u001b[0m\u001b[0msleep\u001b[0m\u001b[0;34m(\u001b[0m\u001b[0msleep_amount\u001b[0m\u001b[0;34m)\u001b[0m\u001b[0;34m\u001b[0m\u001b[0;34m\u001b[0m\u001b[0m\n\u001b[0m",
      "\u001b[0;31mKeyboardInterrupt\u001b[0m: "
     ]
    }
   ],
   "source": [
    "## create EC2 instance\n",
    "instances = ec2.create_instances(\n",
    "     ImageId=AMI_ID,\n",
    "     MinCount=1,\n",
    "     MaxCount=1,\n",
    "     InstanceType=EC2_TYPE,\n",
    "     KeyName=KEY_PAIR_NAME,\n",
    "     NetworkInterfaces=[{\n",
    "             'DeviceIndex':0,\n",
    "             'SubnetId': subnet_pub_ec2.id}],\n",
    "#               'SubnetId': 'subnet-0ee2d46148e05870f'}],\n",
    "     TagSpecifications=[{\n",
    "            'ResourceType':'instance',\n",
    "            'Tags':[{\"Key\": \"Name\", \"Value\": EC2_NAME}]\n",
    "            }]\n",
    " )\n",
    "\n",
    "# get instance ids\n",
    "instances_ids = [i.instance_id for i in instances]\n",
    "\n",
    "# wait till instance is ready\n",
    "waiter = ec2_client.get_waiter('instance_running')\n",
    "waiter.wait(InstanceIds=instances_ids)\n"
   ]
  },
  {
   "cell_type": "code",
   "execution_count": null,
   "metadata": {},
   "outputs": [],
   "source": []
  },
  {
   "cell_type": "code",
   "execution_count": null,
   "metadata": {},
   "outputs": [],
   "source": [
    "# ## associate IAM instance profile to running EC2 instance\n",
    "# ec2_client.associate_iam_instance_profile(\n",
    "#     IamInstanceProfile={\n",
    "#         'Arn': IAM_ARN,\n",
    "#         'Name': 'string'\n",
    "#     },\n",
    "#     InstanceId='string'\n",
    "# )\n",
    "# )"
   ]
  },
  {
   "cell_type": "code",
   "execution_count": 107,
   "metadata": {},
   "outputs": [
    {
     "name": "stdout",
     "output_type": "stream",
     "text": [
      "{'AssociationId': 'eipassoc-0d4f045c3ca7e141f', 'ResponseMetadata': {'RequestId': 'fd817438-44a3-41c8-9758-3bcaa6842794', 'HTTPStatusCode': 200, 'HTTPHeaders': {'x-amzn-requestid': 'fd817438-44a3-41c8-9758-3bcaa6842794', 'content-type': 'text/xml;charset=UTF-8', 'content-length': '295', 'date': 'Fri, 09 Oct 2020 19:18:00 GMT', 'server': 'AmazonEC2'}, 'RetryAttempts': 0}}\n",
      "\n",
      "The EIP is: 18.189.235.99\n"
     ]
    }
   ],
   "source": [
    "## create new EIP and attach it to existing EC2 instance\n",
    "instance_id = instances[0].instance_id\n",
    "try:\n",
    "    allocation = ec2_client.allocate_address(Domain='vpc')\n",
    "    response = ec2_client.associate_address(AllocationId=allocation['AllocationId'],\n",
    "                                        InstanceId='i-027b435789a791103')\n",
    "#                                      InstanceId=instance_id)\n",
    "    print(response)\n",
    "except ClientError as e:\n",
    "    print(e)\n",
    "print(f\"\\nThe EIP is: {allocation['PublicIp']}\")"
   ]
  },
  {
   "cell_type": "code",
   "execution_count": 96,
   "metadata": {},
   "outputs": [],
   "source": [
    "## 3.1 create security group for RDS\n",
    "rds_sg = ec2_client.create_security_group(\n",
    "#      VpcId=vpc.id,\n",
    "    Description=\"IMMIGRATE_RDS_SG\",\n",
    "    GroupName=\"IMMIGRATE_RDS_SG\",\n",
    "    VpcId=vpc.id,\n",
    "    TagSpecifications=[{\n",
    "        'ResourceType':'security-group',\n",
    "         'Tags':[{\"Key\": \"Name\", \"Value\": RDS_SG_NAME}]\n",
    "        }]\n",
    ")"
   ]
  },
  {
   "cell_type": "code",
   "execution_count": 97,
   "metadata": {},
   "outputs": [
    {
     "data": {
      "text/plain": [
       "{'GroupId': 'sg-0369da460f67f0275',\n",
       " 'Tags': [{'Key': 'Name', 'Value': 'IMMIGRATE_RDS_SG'}],\n",
       " 'ResponseMetadata': {'RequestId': '7bee94a4-1e3a-434a-a2ae-8443e2c399c4',\n",
       "  'HTTPStatusCode': 200,\n",
       "  'HTTPHeaders': {'x-amzn-requestid': '7bee94a4-1e3a-434a-a2ae-8443e2c399c4',\n",
       "   'content-type': 'text/xml;charset=UTF-8',\n",
       "   'content-length': '413',\n",
       "   'date': 'Fri, 09 Oct 2020 19:14:47 GMT',\n",
       "   'server': 'AmazonEC2'},\n",
       "  'RetryAttempts': 0}}"
      ]
     },
     "execution_count": 97,
     "metadata": {},
     "output_type": "execute_result"
    }
   ],
   "source": [
    "rds_sg"
   ]
  },
  {
   "cell_type": "code",
   "execution_count": 103,
   "metadata": {},
   "outputs": [],
   "source": [
    "## 3.2 get default security group id\n",
    "sg = ec2_client.describe_security_groups(Filters=[{'Name': 'vpc-id',\n",
    "                                                    'Values': [vpc.vpc_id]}\n",
    "                                                 ])\n",
    "\n",
    "for sg_ in sg['SecurityGroups']:\n",
    "    if sg_['Description'] == 'default VPC security group':\n",
    "        sg_default = sg_\n",
    "        break\n",
    "        \n",
    "sg_default_id = sg_default['GroupId']"
   ]
  },
  {
   "cell_type": "code",
   "execution_count": 99,
   "metadata": {},
   "outputs": [
    {
     "data": {
      "text/plain": [
       "{'ResponseMetadata': {'RequestId': 'cd458640-b7b4-462e-885b-fb377658b1cf',\n",
       "  'HTTPStatusCode': 200,\n",
       "  'HTTPHeaders': {'x-amzn-requestid': 'cd458640-b7b4-462e-885b-fb377658b1cf',\n",
       "   'content-type': 'text/xml;charset=UTF-8',\n",
       "   'content-length': '259',\n",
       "   'date': 'Fri, 09 Oct 2020 19:14:51 GMT',\n",
       "   'server': 'AmazonEC2'},\n",
       "  'RetryAttempts': 0}}"
      ]
     },
     "execution_count": 99,
     "metadata": {},
     "output_type": "execute_result"
    }
   ],
   "source": [
    "## 3.3 allow TCP connect to port 5432\n",
    "ec2_client.authorize_security_group_ingress(GroupId = rds_sg['GroupId'],\n",
    "                                        IpPermissions=[\n",
    "                                        {\n",
    "                                            'FromPort': 5432,\n",
    "                                            'IpProtocol': 'tcp',\n",
    "                                            'UserIdGroupPairs': [\n",
    "                                                {\n",
    "                                                    'GroupId': sg_default_id,\n",
    "                                                    'Description': 'Postgres RDS',\n",
    "                                                },\n",
    "                                            ],\n",
    "                                            'ToPort': 5432,\n",
    "                                        },\n",
    "                                    ],)"
   ]
  },
  {
   "cell_type": "code",
   "execution_count": 104,
   "metadata": {},
   "outputs": [],
   "source": [
    "## 3.4 create subnet group\n",
    "subnet_group = rds_client.create_db_subnet_group(\n",
    "    DBSubnetGroupName='IMMIGRATE_RDS_SUBNET_GROUPS',\n",
    "    DBSubnetGroupDescription='IMMIGRATE_RDS_SUBNET_GROUPS',\n",
    "    SubnetIds=[\n",
    "        subnet_prv_empty.id,\n",
    "        subnet_prv2_rds.id\n",
    "    ],\n",
    "    Tags=[\n",
    "        {\n",
    "            'Key': 'Name',\n",
    "            'Value': 'IMMIGRATE_RDS_SUBNET_GROUPS'\n",
    "        },\n",
    "    ]\n",
    ")"
   ]
  },
  {
   "cell_type": "code",
   "execution_count": 105,
   "metadata": {},
   "outputs": [
    {
     "data": {
      "text/plain": [
       "'IMMIGRATE_DEMOGRAPHICS_DB'"
      ]
     },
     "execution_count": 105,
     "metadata": {},
     "output_type": "execute_result"
    }
   ],
   "source": [
    "RDS_NAME"
   ]
  },
  {
   "cell_type": "code",
   "execution_count": 110,
   "metadata": {},
   "outputs": [],
   "source": [
    "## 3.5 create database instance\n",
    "rds_instance = rds_client.create_db_instance(\n",
    "                   DBInstanceIdentifier=RDS_IDENTIFIER,\n",
    "                   AllocatedStorage=20,\n",
    "                   DBName=RDS_NAME,\n",
    "                   Engine='postgres',\n",
    "                   # General purpose SSD\n",
    "                   StorageType='gp2',\n",
    "#                    StorageEncrypted=True,\n",
    "#                    AutoMinorVersionUpgrade=True,\n",
    "                   # Set this to true later?\n",
    "                   MultiAZ=False,\n",
    "                   MasterUsername='immigrate_demo',\n",
    "                   MasterUserPassword='pGs7TSpd',\n",
    "                   VpcSecurityGroupIds=[rds_sg['GroupId']],\n",
    "                   DBSubnetGroupName='immigrate_rds_subnet_groups',\n",
    "                   DBInstanceClass='db.t2.micro' \n",
    "                        #,\n",
    "#                    Tags=[{'Key': 'MyTag', 'Value': 'Hawaii'}]\n",
    ")\n",
    "\n",
    "# wait till instance is ready\n",
    "waiter = rds_client.get_waiter('db_instance_available')\n",
    "waiter.wait(DBInstanceIdentifier=RDS_IDENTIFIER)"
   ]
  },
  {
   "cell_type": "code",
   "execution_count": null,
   "metadata": {},
   "outputs": [],
   "source": [
    "rds_instance"
   ]
  },
  {
   "cell_type": "code",
   "execution_count": 34,
   "metadata": {},
   "outputs": [],
   "source": []
  },
  {
   "cell_type": "code",
   "execution_count": null,
   "metadata": {},
   "outputs": [],
   "source": []
  },
  {
   "cell_type": "code",
   "execution_count": null,
   "metadata": {},
   "outputs": [],
   "source": []
  },
  {
   "cell_type": "code",
   "execution_count": 99,
   "metadata": {},
   "outputs": [],
   "source": []
  },
  {
   "cell_type": "code",
   "execution_count": null,
   "metadata": {},
   "outputs": [],
   "source": []
  },
  {
   "cell_type": "code",
   "execution_count": null,
   "metadata": {},
   "outputs": [],
   "source": []
  },
  {
   "cell_type": "code",
   "execution_count": null,
   "metadata": {},
   "outputs": [],
   "source": []
  },
  {
   "cell_type": "code",
   "execution_count": null,
   "metadata": {},
   "outputs": [],
   "source": []
  },
  {
   "cell_type": "code",
   "execution_count": null,
   "metadata": {},
   "outputs": [],
   "source": []
  },
  {
   "cell_type": "code",
   "execution_count": null,
   "metadata": {},
   "outputs": [],
   "source": []
  },
  {
   "cell_type": "code",
   "execution_count": null,
   "metadata": {},
   "outputs": [],
   "source": []
  },
  {
   "cell_type": "code",
   "execution_count": 38,
   "metadata": {
    "scrolled": true
   },
   "outputs": [],
   "source": []
  },
  {
   "cell_type": "code",
   "execution_count": null,
   "metadata": {},
   "outputs": [],
   "source": []
  },
  {
   "cell_type": "code",
   "execution_count": null,
   "metadata": {},
   "outputs": [],
   "source": []
  },
  {
   "cell_type": "code",
   "execution_count": null,
   "metadata": {},
   "outputs": [],
   "source": []
  },
  {
   "cell_type": "code",
   "execution_count": null,
   "metadata": {},
   "outputs": [],
   "source": []
  }
 ],
 "metadata": {
  "kernelspec": {
   "display_name": "Python 3",
   "language": "python",
   "name": "python3"
  },
  "language_info": {
   "codemirror_mode": {
    "name": "ipython",
    "version": 3
   },
   "file_extension": ".py",
   "mimetype": "text/x-python",
   "name": "python",
   "nbconvert_exporter": "python",
   "pygments_lexer": "ipython3",
   "version": "3.7.6"
  }
 },
 "nbformat": 4,
 "nbformat_minor": 4
}
